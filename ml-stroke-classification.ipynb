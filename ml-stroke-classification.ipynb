{
 "cells": [
  {
   "cell_type": "markdown",
   "id": "4e3ee370",
   "metadata": {
    "_cell_guid": "b1076dfc-b9ad-4769-8c92-a6c4dae69d19",
    "_uuid": "8f2839f25d086af736a60e9eeb907d3b93b6e0e5",
    "papermill": {
     "duration": 0.018669,
     "end_time": "2023-04-20T14:00:47.430227",
     "exception": false,
     "start_time": "2023-04-20T14:00:47.411558",
     "status": "completed"
    },
    "tags": []
   },
   "source": [
    "# Predicting Stroke Events using Machine Learning \n",
    "\n",
    "Recently I've been fascinated by machine learning and decided to dive more into this world to learn what it is all about. I've taken a course on using the Scikit-learn library through Python and coupled with my previous experience (w/pandas, matplotlib, numpy, & seaborn), I wanted to try and tackle a ML project. (I've also upped my markdown game from previous notebooks, which I want to showcase a bit as well.)\n",
    "\n",
    "The project I'm going to do in this notebook is to predict whether or not a patient had a stroke based on a number of medical and personal attributes. The intent is to use this ml model to predict the likelihood of a stroke in future patients. This will be a classification model as we're trying to predict whether a patient falls into the category of \"Stroke\" or \"No Stroke\". So without further ado, let's get started! \n",
    "\n",
    "## Problem Definition: \n",
    "\n",
    "> Given clinical and personal parameters about a patient, can we predict whether or not the patient had a stroke? \n",
    "\n",
    "## Data: \n",
    "\n",
    "I'm using the stroke-prediction-dataset by FEDESORIANO which can be found at this link: \n",
    "\n",
    "https://www.kaggle.com/datasets/fedesoriano/stroke-prediction-dataset?select=healthcare-dataset-stroke-data.csv\n",
    "\n",
    "## Evaluation: \n",
    "\n",
    "This data isn't part of a competition, so there isn't a particular theshold that I'm trying to obtain with this ML model. Instead I'm just aiming for as high of an accuracy score as I can obtain in model predictions. But for the sake of professionalism, we'll define an arbitrary number to shoot for. \n",
    "\n",
    "> If the model can reach 95% or higher accuracy at predicting whether or not a patient has had a stroke, then we will consider this project a success. \n",
    "\n",
    "## Features: \n",
    "\n",
    "I've copied and pasted the dictionary for features from the original dataset page listed above. \n",
    "\n",
    "**Data Dictionary**\n",
    "\n",
    "1) **id**: unique identifier\n",
    "\n",
    "2) **gender**: \"Male\", \"Female\" or \"Other\"\n",
    "\n",
    "3) **age**: age of the patient\n",
    "\n",
    "4) **hypertension**: 0 if the patient doesn't have hypertension, 1 if the patient has hypertension\n",
    "\n",
    "5) **heart_disease**: 0 if the patient doesn't have any heart diseases, 1 if the patient has a heart disease\n",
    "\n",
    "6) **ever_married**: \"No\" or \"Yes\"\n",
    "\n",
    "7) **work_type**: \"children\", \"Govt_jov\", \"Never_worked\", \"Private\" or \"Self-employed\"\n",
    "\n",
    "8) **Residence_type**: \"Rural\" or \"Urban\"\n",
    "\n",
    "9) **avg_glucose_level**: average glucose level in blood\n",
    "\n",
    "10) **bmi**: body mass index\n",
    "\n",
    "11) **smoking_status**: \"formerly smoked\", \"never smoked\", \"smokes\" or \"Unknown\"*\n",
    "\n",
    "12) **stroke**: 1 if the patient had a stroke or 0 if not\n",
    "\n",
    "***Note**: \"Unknown\" in smoking_status means that the information is unavailable for this patient"
   ]
  },
  {
   "cell_type": "markdown",
   "id": "0e23c30b",
   "metadata": {
    "papermill": {
     "duration": 0.018199,
     "end_time": "2023-04-20T14:00:47.465119",
     "exception": false,
     "start_time": "2023-04-20T14:00:47.446920",
     "status": "completed"
    },
    "tags": []
   },
   "source": [
    "# Preparing the tools \n",
    "\n",
    "I'm going to start by importing all of the python libraries that I will need for the duration of this project."
   ]
  },
  {
   "cell_type": "code",
   "execution_count": 1,
   "id": "106b1c4d",
   "metadata": {
    "execution": {
     "iopub.execute_input": "2023-04-20T14:00:47.512141Z",
     "iopub.status.busy": "2023-04-20T14:00:47.511507Z",
     "iopub.status.idle": "2023-04-20T14:00:49.626890Z",
     "shell.execute_reply": "2023-04-20T14:00:49.625694Z"
    },
    "papermill": {
     "duration": 2.143044,
     "end_time": "2023-04-20T14:00:49.630226",
     "exception": false,
     "start_time": "2023-04-20T14:00:47.487182",
     "status": "completed"
    },
    "tags": []
   },
   "outputs": [],
   "source": [
    "# EDA and plotting libraries \n",
    "import matplotlib.pyplot as plt \n",
    "import numpy as np \n",
    "import pandas as pd \n",
    "import seaborn as sns \n",
    "\n",
    "# Scikit-Learn estimators \n",
    "from sklearn.ensemble import RandomForestClassifier\n",
    "from sklearn.linear_model import LogisticRegression # Regression might seem counterintuitive, but we'll address this later\n",
    "from sklearn.neighbors import KNeighborsClassifier\n",
    "from sklearn.svm import LinearSVC\n",
    "\n",
    "# Model Evaluations\n",
    "from sklearn.metrics import confusion_matrix, classification_report, plot_confusion_matrix\n",
    "from sklearn.metrics import precision_score, recall_score, f1_score # Separate lines to keep everyting \"Pythonic\"\n",
    "from sklearn.metrics import plot_roc_curve\n",
    "from sklearn.model_selection import train_test_split, cross_val_score\n",
    "from sklearn.model_selection import RandomizedSearchCV, GridSearchCV \n",
    "\n",
    "# To handle warnings \n",
    "import warnings"
   ]
  },
  {
   "cell_type": "markdown",
   "id": "a26bcffc",
   "metadata": {
    "papermill": {
     "duration": 0.014013,
     "end_time": "2023-04-20T14:00:49.660970",
     "exception": false,
     "start_time": "2023-04-20T14:00:49.646957",
     "status": "completed"
    },
    "tags": []
   },
   "source": [
    "# Loading Data\n"
   ]
  },
  {
   "cell_type": "code",
   "execution_count": 2,
   "id": "fa467f5e",
   "metadata": {
    "execution": {
     "iopub.execute_input": "2023-04-20T14:00:49.692884Z",
     "iopub.status.busy": "2023-04-20T14:00:49.692102Z",
     "iopub.status.idle": "2023-04-20T14:00:49.784775Z",
     "shell.execute_reply": "2023-04-20T14:00:49.783489Z"
    },
    "papermill": {
     "duration": 0.112636,
     "end_time": "2023-04-20T14:00:49.788038",
     "exception": false,
     "start_time": "2023-04-20T14:00:49.675402",
     "status": "completed"
    },
    "tags": []
   },
   "outputs": [
    {
     "data": {
      "text/html": [
       "<div>\n",
       "<style scoped>\n",
       "    .dataframe tbody tr th:only-of-type {\n",
       "        vertical-align: middle;\n",
       "    }\n",
       "\n",
       "    .dataframe tbody tr th {\n",
       "        vertical-align: top;\n",
       "    }\n",
       "\n",
       "    .dataframe thead th {\n",
       "        text-align: right;\n",
       "    }\n",
       "</style>\n",
       "<table border=\"1\" class=\"dataframe\">\n",
       "  <thead>\n",
       "    <tr style=\"text-align: right;\">\n",
       "      <th></th>\n",
       "      <th>id</th>\n",
       "      <th>gender</th>\n",
       "      <th>age</th>\n",
       "      <th>hypertension</th>\n",
       "      <th>heart_disease</th>\n",
       "      <th>ever_married</th>\n",
       "      <th>work_type</th>\n",
       "      <th>Residence_type</th>\n",
       "      <th>avg_glucose_level</th>\n",
       "      <th>bmi</th>\n",
       "      <th>smoking_status</th>\n",
       "      <th>stroke</th>\n",
       "    </tr>\n",
       "  </thead>\n",
       "  <tbody>\n",
       "    <tr>\n",
       "      <th>0</th>\n",
       "      <td>9046</td>\n",
       "      <td>Male</td>\n",
       "      <td>67.0</td>\n",
       "      <td>0</td>\n",
       "      <td>1</td>\n",
       "      <td>Yes</td>\n",
       "      <td>Private</td>\n",
       "      <td>Urban</td>\n",
       "      <td>228.69</td>\n",
       "      <td>36.6</td>\n",
       "      <td>formerly smoked</td>\n",
       "      <td>1</td>\n",
       "    </tr>\n",
       "    <tr>\n",
       "      <th>1</th>\n",
       "      <td>51676</td>\n",
       "      <td>Female</td>\n",
       "      <td>61.0</td>\n",
       "      <td>0</td>\n",
       "      <td>0</td>\n",
       "      <td>Yes</td>\n",
       "      <td>Self-employed</td>\n",
       "      <td>Rural</td>\n",
       "      <td>202.21</td>\n",
       "      <td>NaN</td>\n",
       "      <td>never smoked</td>\n",
       "      <td>1</td>\n",
       "    </tr>\n",
       "    <tr>\n",
       "      <th>2</th>\n",
       "      <td>31112</td>\n",
       "      <td>Male</td>\n",
       "      <td>80.0</td>\n",
       "      <td>0</td>\n",
       "      <td>1</td>\n",
       "      <td>Yes</td>\n",
       "      <td>Private</td>\n",
       "      <td>Rural</td>\n",
       "      <td>105.92</td>\n",
       "      <td>32.5</td>\n",
       "      <td>never smoked</td>\n",
       "      <td>1</td>\n",
       "    </tr>\n",
       "    <tr>\n",
       "      <th>3</th>\n",
       "      <td>60182</td>\n",
       "      <td>Female</td>\n",
       "      <td>49.0</td>\n",
       "      <td>0</td>\n",
       "      <td>0</td>\n",
       "      <td>Yes</td>\n",
       "      <td>Private</td>\n",
       "      <td>Urban</td>\n",
       "      <td>171.23</td>\n",
       "      <td>34.4</td>\n",
       "      <td>smokes</td>\n",
       "      <td>1</td>\n",
       "    </tr>\n",
       "    <tr>\n",
       "      <th>4</th>\n",
       "      <td>1665</td>\n",
       "      <td>Female</td>\n",
       "      <td>79.0</td>\n",
       "      <td>1</td>\n",
       "      <td>0</td>\n",
       "      <td>Yes</td>\n",
       "      <td>Self-employed</td>\n",
       "      <td>Rural</td>\n",
       "      <td>174.12</td>\n",
       "      <td>24.0</td>\n",
       "      <td>never smoked</td>\n",
       "      <td>1</td>\n",
       "    </tr>\n",
       "    <tr>\n",
       "      <th>...</th>\n",
       "      <td>...</td>\n",
       "      <td>...</td>\n",
       "      <td>...</td>\n",
       "      <td>...</td>\n",
       "      <td>...</td>\n",
       "      <td>...</td>\n",
       "      <td>...</td>\n",
       "      <td>...</td>\n",
       "      <td>...</td>\n",
       "      <td>...</td>\n",
       "      <td>...</td>\n",
       "      <td>...</td>\n",
       "    </tr>\n",
       "    <tr>\n",
       "      <th>5105</th>\n",
       "      <td>18234</td>\n",
       "      <td>Female</td>\n",
       "      <td>80.0</td>\n",
       "      <td>1</td>\n",
       "      <td>0</td>\n",
       "      <td>Yes</td>\n",
       "      <td>Private</td>\n",
       "      <td>Urban</td>\n",
       "      <td>83.75</td>\n",
       "      <td>NaN</td>\n",
       "      <td>never smoked</td>\n",
       "      <td>0</td>\n",
       "    </tr>\n",
       "    <tr>\n",
       "      <th>5106</th>\n",
       "      <td>44873</td>\n",
       "      <td>Female</td>\n",
       "      <td>81.0</td>\n",
       "      <td>0</td>\n",
       "      <td>0</td>\n",
       "      <td>Yes</td>\n",
       "      <td>Self-employed</td>\n",
       "      <td>Urban</td>\n",
       "      <td>125.20</td>\n",
       "      <td>40.0</td>\n",
       "      <td>never smoked</td>\n",
       "      <td>0</td>\n",
       "    </tr>\n",
       "    <tr>\n",
       "      <th>5107</th>\n",
       "      <td>19723</td>\n",
       "      <td>Female</td>\n",
       "      <td>35.0</td>\n",
       "      <td>0</td>\n",
       "      <td>0</td>\n",
       "      <td>Yes</td>\n",
       "      <td>Self-employed</td>\n",
       "      <td>Rural</td>\n",
       "      <td>82.99</td>\n",
       "      <td>30.6</td>\n",
       "      <td>never smoked</td>\n",
       "      <td>0</td>\n",
       "    </tr>\n",
       "    <tr>\n",
       "      <th>5108</th>\n",
       "      <td>37544</td>\n",
       "      <td>Male</td>\n",
       "      <td>51.0</td>\n",
       "      <td>0</td>\n",
       "      <td>0</td>\n",
       "      <td>Yes</td>\n",
       "      <td>Private</td>\n",
       "      <td>Rural</td>\n",
       "      <td>166.29</td>\n",
       "      <td>25.6</td>\n",
       "      <td>formerly smoked</td>\n",
       "      <td>0</td>\n",
       "    </tr>\n",
       "    <tr>\n",
       "      <th>5109</th>\n",
       "      <td>44679</td>\n",
       "      <td>Female</td>\n",
       "      <td>44.0</td>\n",
       "      <td>0</td>\n",
       "      <td>0</td>\n",
       "      <td>Yes</td>\n",
       "      <td>Govt_job</td>\n",
       "      <td>Urban</td>\n",
       "      <td>85.28</td>\n",
       "      <td>26.2</td>\n",
       "      <td>Unknown</td>\n",
       "      <td>0</td>\n",
       "    </tr>\n",
       "  </tbody>\n",
       "</table>\n",
       "<p>5110 rows × 12 columns</p>\n",
       "</div>"
      ],
      "text/plain": [
       "         id  gender   age  hypertension  heart_disease ever_married  \\\n",
       "0      9046    Male  67.0             0              1          Yes   \n",
       "1     51676  Female  61.0             0              0          Yes   \n",
       "2     31112    Male  80.0             0              1          Yes   \n",
       "3     60182  Female  49.0             0              0          Yes   \n",
       "4      1665  Female  79.0             1              0          Yes   \n",
       "...     ...     ...   ...           ...            ...          ...   \n",
       "5105  18234  Female  80.0             1              0          Yes   \n",
       "5106  44873  Female  81.0             0              0          Yes   \n",
       "5107  19723  Female  35.0             0              0          Yes   \n",
       "5108  37544    Male  51.0             0              0          Yes   \n",
       "5109  44679  Female  44.0             0              0          Yes   \n",
       "\n",
       "          work_type Residence_type  avg_glucose_level   bmi   smoking_status  \\\n",
       "0           Private          Urban             228.69  36.6  formerly smoked   \n",
       "1     Self-employed          Rural             202.21   NaN     never smoked   \n",
       "2           Private          Rural             105.92  32.5     never smoked   \n",
       "3           Private          Urban             171.23  34.4           smokes   \n",
       "4     Self-employed          Rural             174.12  24.0     never smoked   \n",
       "...             ...            ...                ...   ...              ...   \n",
       "5105        Private          Urban              83.75   NaN     never smoked   \n",
       "5106  Self-employed          Urban             125.20  40.0     never smoked   \n",
       "5107  Self-employed          Rural              82.99  30.6     never smoked   \n",
       "5108        Private          Rural             166.29  25.6  formerly smoked   \n",
       "5109       Govt_job          Urban              85.28  26.2          Unknown   \n",
       "\n",
       "      stroke  \n",
       "0          1  \n",
       "1          1  \n",
       "2          1  \n",
       "3          1  \n",
       "4          1  \n",
       "...      ...  \n",
       "5105       0  \n",
       "5106       0  \n",
       "5107       0  \n",
       "5108       0  \n",
       "5109       0  \n",
       "\n",
       "[5110 rows x 12 columns]"
      ]
     },
     "execution_count": 2,
     "metadata": {},
     "output_type": "execute_result"
    }
   ],
   "source": [
    "# Importing the CSV file \n",
    "df = pd.read_csv(\"/kaggle/input/stroke-prediction-dataset/healthcare-dataset-stroke-data.csv\")\n",
    "\n",
    "# Checking to make sure the import worked\n",
    "df"
   ]
  },
  {
   "cell_type": "markdown",
   "id": "a0409d85",
   "metadata": {
    "papermill": {
     "duration": 0.014508,
     "end_time": "2023-04-20T14:00:49.817820",
     "exception": false,
     "start_time": "2023-04-20T14:00:49.803312",
     "status": "completed"
    },
    "tags": []
   },
   "source": [
    "# Exploratory Data Analysis (EDA) \n",
    "\n",
    "Before we start training models, I want to look through the data and familiarize myself with it a bit. I want to check for missing values and non-numeric values, as the ml models I'll be using need to work with numeric data. I also want to check to see if there are any outliers that are skewing the dataset. We'll experiment for a while to get a feel for the data. "
   ]
  },
  {
   "cell_type": "code",
   "execution_count": 3,
   "id": "6e6072af",
   "metadata": {
    "execution": {
     "iopub.execute_input": "2023-04-20T14:00:49.850040Z",
     "iopub.status.busy": "2023-04-20T14:00:49.849596Z",
     "iopub.status.idle": "2023-04-20T14:00:49.869595Z",
     "shell.execute_reply": "2023-04-20T14:00:49.868171Z"
    },
    "papermill": {
     "duration": 0.039607,
     "end_time": "2023-04-20T14:00:49.872253",
     "exception": false,
     "start_time": "2023-04-20T14:00:49.832646",
     "status": "completed"
    },
    "tags": []
   },
   "outputs": [
    {
     "data": {
      "text/html": [
       "<div>\n",
       "<style scoped>\n",
       "    .dataframe tbody tr th:only-of-type {\n",
       "        vertical-align: middle;\n",
       "    }\n",
       "\n",
       "    .dataframe tbody tr th {\n",
       "        vertical-align: top;\n",
       "    }\n",
       "\n",
       "    .dataframe thead th {\n",
       "        text-align: right;\n",
       "    }\n",
       "</style>\n",
       "<table border=\"1\" class=\"dataframe\">\n",
       "  <thead>\n",
       "    <tr style=\"text-align: right;\">\n",
       "      <th></th>\n",
       "      <th>id</th>\n",
       "      <th>gender</th>\n",
       "      <th>age</th>\n",
       "      <th>hypertension</th>\n",
       "      <th>heart_disease</th>\n",
       "      <th>ever_married</th>\n",
       "      <th>work_type</th>\n",
       "      <th>Residence_type</th>\n",
       "      <th>avg_glucose_level</th>\n",
       "      <th>bmi</th>\n",
       "      <th>smoking_status</th>\n",
       "      <th>stroke</th>\n",
       "    </tr>\n",
       "  </thead>\n",
       "  <tbody>\n",
       "    <tr>\n",
       "      <th>0</th>\n",
       "      <td>9046</td>\n",
       "      <td>Male</td>\n",
       "      <td>67.0</td>\n",
       "      <td>0</td>\n",
       "      <td>1</td>\n",
       "      <td>Yes</td>\n",
       "      <td>Private</td>\n",
       "      <td>Urban</td>\n",
       "      <td>228.69</td>\n",
       "      <td>36.6</td>\n",
       "      <td>formerly smoked</td>\n",
       "      <td>1</td>\n",
       "    </tr>\n",
       "    <tr>\n",
       "      <th>1</th>\n",
       "      <td>51676</td>\n",
       "      <td>Female</td>\n",
       "      <td>61.0</td>\n",
       "      <td>0</td>\n",
       "      <td>0</td>\n",
       "      <td>Yes</td>\n",
       "      <td>Self-employed</td>\n",
       "      <td>Rural</td>\n",
       "      <td>202.21</td>\n",
       "      <td>NaN</td>\n",
       "      <td>never smoked</td>\n",
       "      <td>1</td>\n",
       "    </tr>\n",
       "    <tr>\n",
       "      <th>2</th>\n",
       "      <td>31112</td>\n",
       "      <td>Male</td>\n",
       "      <td>80.0</td>\n",
       "      <td>0</td>\n",
       "      <td>1</td>\n",
       "      <td>Yes</td>\n",
       "      <td>Private</td>\n",
       "      <td>Rural</td>\n",
       "      <td>105.92</td>\n",
       "      <td>32.5</td>\n",
       "      <td>never smoked</td>\n",
       "      <td>1</td>\n",
       "    </tr>\n",
       "    <tr>\n",
       "      <th>3</th>\n",
       "      <td>60182</td>\n",
       "      <td>Female</td>\n",
       "      <td>49.0</td>\n",
       "      <td>0</td>\n",
       "      <td>0</td>\n",
       "      <td>Yes</td>\n",
       "      <td>Private</td>\n",
       "      <td>Urban</td>\n",
       "      <td>171.23</td>\n",
       "      <td>34.4</td>\n",
       "      <td>smokes</td>\n",
       "      <td>1</td>\n",
       "    </tr>\n",
       "    <tr>\n",
       "      <th>4</th>\n",
       "      <td>1665</td>\n",
       "      <td>Female</td>\n",
       "      <td>79.0</td>\n",
       "      <td>1</td>\n",
       "      <td>0</td>\n",
       "      <td>Yes</td>\n",
       "      <td>Self-employed</td>\n",
       "      <td>Rural</td>\n",
       "      <td>174.12</td>\n",
       "      <td>24.0</td>\n",
       "      <td>never smoked</td>\n",
       "      <td>1</td>\n",
       "    </tr>\n",
       "  </tbody>\n",
       "</table>\n",
       "</div>"
      ],
      "text/plain": [
       "      id  gender   age  hypertension  heart_disease ever_married  \\\n",
       "0   9046    Male  67.0             0              1          Yes   \n",
       "1  51676  Female  61.0             0              0          Yes   \n",
       "2  31112    Male  80.0             0              1          Yes   \n",
       "3  60182  Female  49.0             0              0          Yes   \n",
       "4   1665  Female  79.0             1              0          Yes   \n",
       "\n",
       "       work_type Residence_type  avg_glucose_level   bmi   smoking_status  \\\n",
       "0        Private          Urban             228.69  36.6  formerly smoked   \n",
       "1  Self-employed          Rural             202.21   NaN     never smoked   \n",
       "2        Private          Rural             105.92  32.5     never smoked   \n",
       "3        Private          Urban             171.23  34.4           smokes   \n",
       "4  Self-employed          Rural             174.12  24.0     never smoked   \n",
       "\n",
       "   stroke  \n",
       "0       1  \n",
       "1       1  \n",
       "2       1  \n",
       "3       1  \n",
       "4       1  "
      ]
     },
     "execution_count": 3,
     "metadata": {},
     "output_type": "execute_result"
    }
   ],
   "source": [
    "# Getting a general feel for the data\n",
    "df.head()"
   ]
  },
  {
   "cell_type": "code",
   "execution_count": 4,
   "id": "c40ea3dd",
   "metadata": {
    "execution": {
     "iopub.execute_input": "2023-04-20T14:00:49.905528Z",
     "iopub.status.busy": "2023-04-20T14:00:49.905086Z",
     "iopub.status.idle": "2023-04-20T14:00:49.923533Z",
     "shell.execute_reply": "2023-04-20T14:00:49.921731Z"
    },
    "papermill": {
     "duration": 0.038989,
     "end_time": "2023-04-20T14:00:49.926696",
     "exception": false,
     "start_time": "2023-04-20T14:00:49.887707",
     "status": "completed"
    },
    "tags": []
   },
   "outputs": [
    {
     "data": {
      "text/plain": [
       "0    4861\n",
       "1     249\n",
       "Name: stroke, dtype: int64"
      ]
     },
     "execution_count": 4,
     "metadata": {},
     "output_type": "execute_result"
    }
   ],
   "source": [
    "# I'm curious about the number of stroke(1) v. non-stroke(0) patients in the dataset \n",
    "df[\"stroke\"].value_counts()"
   ]
  },
  {
   "cell_type": "code",
   "execution_count": 5,
   "id": "0646c3f0",
   "metadata": {
    "execution": {
     "iopub.execute_input": "2023-04-20T14:00:49.960753Z",
     "iopub.status.busy": "2023-04-20T14:00:49.959516Z",
     "iopub.status.idle": "2023-04-20T14:00:50.268338Z",
     "shell.execute_reply": "2023-04-20T14:00:50.266520Z"
    },
    "papermill": {
     "duration": 0.329204,
     "end_time": "2023-04-20T14:00:50.271538",
     "exception": false,
     "start_time": "2023-04-20T14:00:49.942334",
     "status": "completed"
    },
    "tags": []
   },
   "outputs": [
    {
     "data": {
      "image/png": "[encoded data removed]",
      "text/plain": [
       "<Figure size 640x480 with 1 Axes>"
      ]
     },
     "metadata": {},
     "output_type": "display_data"
    }
   ],
   "source": [
    "# Let's put this in a plot\n",
    "st_plot = df[\"stroke\"].value_counts().plot(kind=\"bar\",color=[\"steelblue\",\"lawngreen\"], rot=0)\n",
    "plt.xticks(ticks=[1,0], labels=[\"stroke\", \"no_stroke\"]);"
   ]
  },
  {
   "cell_type": "markdown",
   "id": "317a13af",
   "metadata": {
    "papermill": {
     "duration": 0.017025,
     "end_time": "2023-04-20T14:00:50.305410",
     "exception": false,
     "start_time": "2023-04-20T14:00:50.288385",
     "status": "completed"
    },
    "tags": []
   },
   "source": [
    "This seems problematic from the outset as the dataset is imbalanced. 249 / 5110 means less than 5% of all our data contains people who've actually had a stroke. That means the machine could predict \"no_stroke\" for every guess and still achieve around 95% accuracy. At this point in real life, I would contact whoever had given me the data and ask if they had more data available on patients who've had a stroke. I want to incorporate more stroke data to offset the imbalance and more accurately make predictions with my machine learning model. Since this is just a project for fun, I'm going to ignore this glaring error. "
   ]
  },
  {
   "cell_type": "code",
   "execution_count": 6,
   "id": "41cc72a8",
   "metadata": {
    "execution": {
     "iopub.execute_input": "2023-04-20T14:00:50.340930Z",
     "iopub.status.busy": "2023-04-20T14:00:50.340424Z",
     "iopub.status.idle": "2023-04-20T14:00:50.362219Z",
     "shell.execute_reply": "2023-04-20T14:00:50.360675Z"
    },
    "papermill": {
     "duration": 0.043514,
     "end_time": "2023-04-20T14:00:50.365210",
     "exception": false,
     "start_time": "2023-04-20T14:00:50.321696",
     "status": "completed"
    },
    "tags": []
   },
   "outputs": [
    {
     "name": "stdout",
     "output_type": "stream",
     "text": [
      "<class 'pandas.core.frame.DataFrame'>\n",
      "RangeIndex: 5110 entries, 0 to 5109\n",
      "Data columns (total 12 columns):\n",
      " #   Column             Non-Null Count  Dtype  \n",
      "---  ------             --------------  -----  \n",
      " 0   id                 5110 non-null   int64  \n",
      " 1   gender             5110 non-null   object \n",
      " 2   age                5110 non-null   float64\n",
      " 3   hypertension       5110 non-null   int64  \n",
      " 4   heart_disease      5110 non-null   int64  \n",
      " 5   ever_married       5110 non-null   object \n",
      " 6   work_type          5110 non-null   object \n",
      " 7   Residence_type     5110 non-null   object \n",
      " 8   avg_glucose_level  5110 non-null   float64\n",
      " 9   bmi                4909 non-null   float64\n",
      " 10  smoking_status     5110 non-null   object \n",
      " 11  stroke             5110 non-null   int64  \n",
      "dtypes: float64(3), int64(4), object(5)\n",
      "memory usage: 479.2+ KB\n"
     ]
    }
   ],
   "source": [
    "# Let's look at the datatypes of each column\n",
    "df.info()"
   ]
  },
  {
   "cell_type": "code",
   "execution_count": 7,
   "id": "5c8c2ae1",
   "metadata": {
    "execution": {
     "iopub.execute_input": "2023-04-20T14:00:50.400538Z",
     "iopub.status.busy": "2023-04-20T14:00:50.400077Z",
     "iopub.status.idle": "2023-04-20T14:00:50.413168Z",
     "shell.execute_reply": "2023-04-20T14:00:50.411766Z"
    },
    "papermill": {
     "duration": 0.034438,
     "end_time": "2023-04-20T14:00:50.416135",
     "exception": false,
     "start_time": "2023-04-20T14:00:50.381697",
     "status": "completed"
    },
    "tags": []
   },
   "outputs": [
    {
     "data": {
      "text/plain": [
       "id                     0\n",
       "gender                 0\n",
       "age                    0\n",
       "hypertension           0\n",
       "heart_disease          0\n",
       "ever_married           0\n",
       "work_type              0\n",
       "Residence_type         0\n",
       "avg_glucose_level      0\n",
       "bmi                  201\n",
       "smoking_status         0\n",
       "stroke                 0\n",
       "dtype: int64"
      ]
     },
     "execution_count": 7,
     "metadata": {},
     "output_type": "execute_result"
    }
   ],
   "source": [
    "# Checking for missing values \n",
    "df.isna().sum()"
   ]
  },
  {
   "cell_type": "markdown",
   "id": "6dfca8b2",
   "metadata": {
    "papermill": {
     "duration": 0.019219,
     "end_time": "2023-04-20T14:00:50.452591",
     "exception": false,
     "start_time": "2023-04-20T14:00:50.433372",
     "status": "completed"
    },
    "tags": []
   },
   "source": [
    "Since my models need numeric data, I'm going to have to do something with these object datatypes. I also will need to fill in the missing values on the \"bmi\" column. I'll do all of this after I finish my EDA and split the data. \n",
    "\n",
    "Next, I'm going to look to see how gender might affect stroke likeliness."
   ]
  },
  {
   "cell_type": "code",
   "execution_count": 8,
   "id": "f4f7eadf",
   "metadata": {
    "execution": {
     "iopub.execute_input": "2023-04-20T14:00:50.487913Z",
     "iopub.status.busy": "2023-04-20T14:00:50.486638Z",
     "iopub.status.idle": "2023-04-20T14:00:50.524388Z",
     "shell.execute_reply": "2023-04-20T14:00:50.522700Z"
    },
    "papermill": {
     "duration": 0.058962,
     "end_time": "2023-04-20T14:00:50.527724",
     "exception": false,
     "start_time": "2023-04-20T14:00:50.468762",
     "status": "completed"
    },
    "tags": []
   },
   "outputs": [
    {
     "data": {
      "text/html": [
       "<div>\n",
       "<style scoped>\n",
       "    .dataframe tbody tr th:only-of-type {\n",
       "        vertical-align: middle;\n",
       "    }\n",
       "\n",
       "    .dataframe tbody tr th {\n",
       "        vertical-align: top;\n",
       "    }\n",
       "\n",
       "    .dataframe thead th {\n",
       "        text-align: right;\n",
       "    }\n",
       "</style>\n",
       "<table border=\"1\" class=\"dataframe\">\n",
       "  <thead>\n",
       "    <tr style=\"text-align: right;\">\n",
       "      <th>gender</th>\n",
       "      <th>Female</th>\n",
       "      <th>Male</th>\n",
       "      <th>Other</th>\n",
       "    </tr>\n",
       "    <tr>\n",
       "      <th>stroke</th>\n",
       "      <th></th>\n",
       "      <th></th>\n",
       "      <th></th>\n",
       "    </tr>\n",
       "  </thead>\n",
       "  <tbody>\n",
       "    <tr>\n",
       "      <th>0</th>\n",
       "      <td>2853</td>\n",
       "      <td>2007</td>\n",
       "      <td>1</td>\n",
       "    </tr>\n",
       "    <tr>\n",
       "      <th>1</th>\n",
       "      <td>141</td>\n",
       "      <td>108</td>\n",
       "      <td>0</td>\n",
       "    </tr>\n",
       "  </tbody>\n",
       "</table>\n",
       "</div>"
      ],
      "text/plain": [
       "gender  Female  Male  Other\n",
       "stroke                     \n",
       "0         2853  2007      1\n",
       "1          141   108      0"
      ]
     },
     "execution_count": 8,
     "metadata": {},
     "output_type": "execute_result"
    }
   ],
   "source": [
    "# Comparing gender with target (stroke) column\n",
    "pd.crosstab(df.stroke, df.gender)"
   ]
  },
  {
   "cell_type": "markdown",
   "id": "3211b3f4",
   "metadata": {
    "papermill": {
     "duration": 0.015785,
     "end_time": "2023-04-20T14:00:50.559939",
     "exception": false,
     "start_time": "2023-04-20T14:00:50.544154",
     "status": "completed"
    },
    "tags": []
   },
   "source": [
    "Well it looks like we have a fairly even distribution of males and females that have and haven't had a stroke. There doesn't seem to be any indicators in the gender column that point one way or another. It does look like that there were almost 900 more females surveyed than men.\n",
    "\n",
    "**Note**: \n",
    "Since I only have one \"Other\" value, I'm going to drop it from my dataset so it will be easier to aggregate and visualize the data. If I had numerous instances of \"Other\", then I would keep the data for consideration. "
   ]
  },
  {
   "cell_type": "code",
   "execution_count": 9,
   "id": "546a2aee",
   "metadata": {
    "execution": {
     "iopub.execute_input": "2023-04-20T14:00:50.594242Z",
     "iopub.status.busy": "2023-04-20T14:00:50.593745Z",
     "iopub.status.idle": "2023-04-20T14:00:50.614449Z",
     "shell.execute_reply": "2023-04-20T14:00:50.612659Z"
    },
    "papermill": {
     "duration": 0.041637,
     "end_time": "2023-04-20T14:00:50.617491",
     "exception": false,
     "start_time": "2023-04-20T14:00:50.575854",
     "status": "completed"
    },
    "tags": []
   },
   "outputs": [
    {
     "data": {
      "text/html": [
       "<div>\n",
       "<style scoped>\n",
       "    .dataframe tbody tr th:only-of-type {\n",
       "        vertical-align: middle;\n",
       "    }\n",
       "\n",
       "    .dataframe tbody tr th {\n",
       "        vertical-align: top;\n",
       "    }\n",
       "\n",
       "    .dataframe thead th {\n",
       "        text-align: right;\n",
       "    }\n",
       "</style>\n",
       "<table border=\"1\" class=\"dataframe\">\n",
       "  <thead>\n",
       "    <tr style=\"text-align: right;\">\n",
       "      <th></th>\n",
       "      <th>id</th>\n",
       "      <th>gender</th>\n",
       "      <th>age</th>\n",
       "      <th>hypertension</th>\n",
       "      <th>heart_disease</th>\n",
       "      <th>ever_married</th>\n",
       "      <th>work_type</th>\n",
       "      <th>Residence_type</th>\n",
       "      <th>avg_glucose_level</th>\n",
       "      <th>bmi</th>\n",
       "      <th>smoking_status</th>\n",
       "      <th>stroke</th>\n",
       "    </tr>\n",
       "  </thead>\n",
       "  <tbody>\n",
       "    <tr>\n",
       "      <th>3116</th>\n",
       "      <td>56156</td>\n",
       "      <td>Other</td>\n",
       "      <td>26.0</td>\n",
       "      <td>0</td>\n",
       "      <td>0</td>\n",
       "      <td>No</td>\n",
       "      <td>Private</td>\n",
       "      <td>Rural</td>\n",
       "      <td>143.33</td>\n",
       "      <td>22.4</td>\n",
       "      <td>formerly smoked</td>\n",
       "      <td>0</td>\n",
       "    </tr>\n",
       "  </tbody>\n",
       "</table>\n",
       "</div>"
      ],
      "text/plain": [
       "         id gender   age  hypertension  heart_disease ever_married work_type  \\\n",
       "3116  56156  Other  26.0             0              0           No   Private   \n",
       "\n",
       "     Residence_type  avg_glucose_level   bmi   smoking_status  stroke  \n",
       "3116          Rural             143.33  22.4  formerly smoked       0  "
      ]
     },
     "execution_count": 9,
     "metadata": {},
     "output_type": "execute_result"
    }
   ],
   "source": [
    "# Finding out which row is Other\n",
    "df[df[\"gender\"] == \"Other\"]"
   ]
  },
  {
   "cell_type": "code",
   "execution_count": 10,
   "id": "50df5f09",
   "metadata": {
    "execution": {
     "iopub.execute_input": "2023-04-20T14:00:50.654072Z",
     "iopub.status.busy": "2023-04-20T14:00:50.653517Z",
     "iopub.status.idle": "2023-04-20T14:00:50.664512Z",
     "shell.execute_reply": "2023-04-20T14:00:50.662469Z"
    },
    "papermill": {
     "duration": 0.033612,
     "end_time": "2023-04-20T14:00:50.667739",
     "exception": false,
     "start_time": "2023-04-20T14:00:50.634127",
     "status": "completed"
    },
    "tags": []
   },
   "outputs": [],
   "source": [
    "# Dropping the Other value\n",
    "df.drop(df[df['id'] == 56156].index, inplace=True)"
   ]
  },
  {
   "cell_type": "code",
   "execution_count": 11,
   "id": "30753c92",
   "metadata": {
    "execution": {
     "iopub.execute_input": "2023-04-20T14:00:50.704176Z",
     "iopub.status.busy": "2023-04-20T14:00:50.703701Z",
     "iopub.status.idle": "2023-04-20T14:00:50.999680Z",
     "shell.execute_reply": "2023-04-20T14:00:50.997868Z"
    },
    "papermill": {
     "duration": 0.317382,
     "end_time": "2023-04-20T14:00:51.002607",
     "exception": false,
     "start_time": "2023-04-20T14:00:50.685225",
     "status": "completed"
    },
    "tags": []
   },
   "outputs": [
    {
     "data": {
      "image/png": "[encoded data removed]",
      "text/plain": [
       "<Figure size 1000x600 with 1 Axes>"
      ]
     },
     "metadata": {},
     "output_type": "display_data"
    }
   ],
   "source": [
    "# Let's visualize the gender crosstab from above \n",
    "pd.crosstab(df.stroke, df.gender).plot(kind='bar',\n",
    "                                       figsize=(10,6), \n",
    "                                       color=[\"steelblue\",\"lawngreen\"],\n",
    "                                       rot=0)\n",
    "\n",
    "# Styling\n",
    "plt.title(\"Stroke Frequency by Gender\")\n",
    "plt.xticks(ticks=[0,1],labels=[\"No Stroke\", \"Stroke\"])\n",
    "plt.xlabel(None)\n",
    "plt.ylabel(\"Amount\");\n"
   ]
  },
  {
   "cell_type": "code",
   "execution_count": 12,
   "id": "f8eedbbe",
   "metadata": {
    "execution": {
     "iopub.execute_input": "2023-04-20T14:00:51.040435Z",
     "iopub.status.busy": "2023-04-20T14:00:51.039553Z",
     "iopub.status.idle": "2023-04-20T14:00:51.298028Z",
     "shell.execute_reply": "2023-04-20T14:00:51.296515Z"
    },
    "papermill": {
     "duration": 0.280707,
     "end_time": "2023-04-20T14:00:51.301391",
     "exception": false,
     "start_time": "2023-04-20T14:00:51.020684",
     "status": "completed"
    },
    "tags": []
   },
   "outputs": [
    {
     "data": {
      "image/png": "[encoded data removed]",
      "text/plain": [
       "<Figure size 640x480 with 1 Axes>"
      ]
     },
     "metadata": {},
     "output_type": "display_data"
    }
   ],
   "source": [
    "# Let's look at this distribution by ages \n",
    "df[\"age\"].plot.hist(color=\"steelblue\")\n",
    "plt.xlabel(\"Age\");"
   ]
  },
  {
   "cell_type": "code",
   "execution_count": 13,
   "id": "1a883bd0",
   "metadata": {
    "execution": {
     "iopub.execute_input": "2023-04-20T14:00:51.341017Z",
     "iopub.status.busy": "2023-04-20T14:00:51.340451Z",
     "iopub.status.idle": "2023-04-20T14:00:51.782493Z",
     "shell.execute_reply": "2023-04-20T14:00:51.781200Z"
    },
    "papermill": {
     "duration": 0.464478,
     "end_time": "2023-04-20T14:00:51.785098",
     "exception": false,
     "start_time": "2023-04-20T14:00:51.320620",
     "status": "completed"
    },
    "tags": []
   },
   "outputs": [
    {
     "data": {
      "image/png": "[encoded data removed]",
      "text/plain": [
       "<Figure size 1000x600 with 1 Axes>"
      ]
     },
     "metadata": {},
     "output_type": "display_data"
    }
   ],
   "source": [
    "plt.figure(figsize=(10,6))\n",
    "\n",
    "# Ages and BMI for people who haven't had a stroke\n",
    "plt.scatter(df.age[df.stroke==0], \n",
    "            df.bmi[df.stroke==0],\n",
    "            c=\"steelblue\")\n",
    "\n",
    "# Ages and BMI for people who have had a stroke\n",
    "plt.scatter(df.age[df.stroke==1], \n",
    "            df.bmi[df.stroke==1],\n",
    "            c=\"lawngreen\")\n",
    "\n",
    "# Styling\n",
    "plt.title(\"Age and BMI's correlation with having a Stroke\")\n",
    "plt.xlabel(\"Age\")\n",
    "plt.ylabel(\"BMI\")\n",
    "plt.legend([\"No Stroke\", \"Stroke\"]);"
   ]
  },
  {
   "cell_type": "markdown",
   "id": "4efa26bd",
   "metadata": {
    "papermill": {
     "duration": 0.018351,
     "end_time": "2023-04-20T14:00:51.823900",
     "exception": false,
     "start_time": "2023-04-20T14:00:51.805549",
     "status": "completed"
    },
    "tags": []
   },
   "source": [
    "From the histogram above, it looks like there is a pretty even distribution on ages sampled, with a slight peak around 50. I realize we have around 200 missing values in the BMI column, but given the size of the dataset I didn't figure it would have too much of an impact on plotting. From the scatter plot above, it looks like BMI is a pretty even band and doesn't seem to do well at indicating whether or not someone has had a Stroke. Age seems to be a much bigger indicator in this case. I predict that the machine will lean towards older ages as having a higher chance of having a stroke and use this as one of it's primary evaluation metrics."
   ]
  },
  {
   "cell_type": "code",
   "execution_count": 14,
   "id": "2c5328ae",
   "metadata": {
    "execution": {
     "iopub.execute_input": "2023-04-20T14:00:51.862989Z",
     "iopub.status.busy": "2023-04-20T14:00:51.862450Z",
     "iopub.status.idle": "2023-04-20T14:00:51.869635Z",
     "shell.execute_reply": "2023-04-20T14:00:51.868750Z"
    },
    "papermill": {
     "duration": 0.030238,
     "end_time": "2023-04-20T14:00:51.872820",
     "exception": false,
     "start_time": "2023-04-20T14:00:51.842582",
     "status": "completed"
    },
    "tags": []
   },
   "outputs": [
    {
     "data": {
      "text/plain": [
       "Index(['id', 'gender', 'age', 'hypertension', 'heart_disease', 'ever_married',\n",
       "       'work_type', 'Residence_type', 'avg_glucose_level', 'bmi',\n",
       "       'smoking_status', 'stroke'],\n",
       "      dtype='object')"
      ]
     },
     "execution_count": 14,
     "metadata": {},
     "output_type": "execute_result"
    }
   ],
   "source": [
    "# Looking at the other columns in the dataframe to decide what to explore next\n",
    "df.columns"
   ]
  },
  {
   "cell_type": "code",
   "execution_count": 15,
   "id": "2950ecd0",
   "metadata": {
    "execution": {
     "iopub.execute_input": "2023-04-20T14:00:51.913337Z",
     "iopub.status.busy": "2023-04-20T14:00:51.912765Z",
     "iopub.status.idle": "2023-04-20T14:00:52.757400Z",
     "shell.execute_reply": "2023-04-20T14:00:52.755991Z"
    },
    "papermill": {
     "duration": 0.869771,
     "end_time": "2023-04-20T14:00:52.760794",
     "exception": false,
     "start_time": "2023-04-20T14:00:51.891023",
     "status": "completed"
    },
    "tags": []
   },
   "outputs": [
    {
     "data": {
      "image/png": "[encoded data removed]",
      "text/plain": [
       "<Figure size 2000x1000 with 4 Axes>"
      ]
     },
     "metadata": {},
     "output_type": "display_data"
    }
   ],
   "source": [
    "# Creating some crosstab info for some of the remaining columns \n",
    "ct1 = pd.crosstab(df.heart_disease,df.stroke)\n",
    "ct2 = pd.crosstab(df.hypertension,df.stroke)\n",
    "ct3 = pd.crosstab(df.ever_married,df.stroke)\n",
    "ct4 = pd.crosstab(df.smoking_status,df.stroke)\n",
    "\n",
    "# Setting the colors\n",
    "colors = [\"steelblue\",\"lawngreen\"]\n",
    "\n",
    "# Setting up the figure and different axes on the figure\n",
    "fig,((ax1,ax2),(ax3,ax4)) = plt.subplots(nrows=2,\n",
    "                                          ncols=2, \n",
    "                                          figsize=(20,10))\n",
    "\n",
    "# Plotting each crosstab on a different axis\n",
    "ct1.plot(kind='bar',ax=ax1,color=colors,rot=0)\n",
    "ct2.plot(kind='bar',ax=ax2,color=colors,rot=0)\n",
    "ct3.plot(kind='bar',ax=ax3,color=colors,rot=0)\n",
    "ct4.plot(kind='bar',ax=ax4,color=colors,rot=0);\n",
    "\n",
    "# Setting x labels for heart_disease and hypertension\n",
    "ax1.set_xticklabels([\"No\",\"Yes\"])\n",
    "ax2.set_xticklabels([\"No\",\"Yes\"])\n",
    "\n",
    "# Changing the lables of the legend\n",
    "ax1.legend(labels=['No Stroke', 'Stroke'])\n",
    "ax2.legend(labels=['No Stroke', 'Stroke'])\n",
    "ax3.legend(labels=['No Stroke', 'Stroke'])\n",
    "ax4.legend(labels=['No Stroke', 'Stroke']);"
   ]
  },
  {
   "cell_type": "markdown",
   "id": "f00e2298",
   "metadata": {
    "papermill": {
     "duration": 0.020301,
     "end_time": "2023-04-20T14:00:52.801648",
     "exception": false,
     "start_time": "2023-04-20T14:00:52.781347",
     "status": "completed"
    },
    "tags": []
   },
   "source": [
    "I've decided to use subplots to quickly summarize several of the columns. From the first two plots (heart_disease and hypertension), I can infer that people who have these medical conditions seem to have a higher percentage of having a stroke. Right off the bat, I don't see any clear trending patterns within the smoking and married data. It does look like former smokers have a higher percentage chance of having a stroke vs. those who have never smoked, but not dramatically so. If I wasn't trying to save notebook space doing a project, I would dig into this a little deeper.\n",
    "\n",
    "Finally, let's make a correlation matrix to compare the column values against one another. "
   ]
  },
  {
   "cell_type": "code",
   "execution_count": 16,
   "id": "fbc84e41",
   "metadata": {
    "execution": {
     "iopub.execute_input": "2023-04-20T14:00:52.842914Z",
     "iopub.status.busy": "2023-04-20T14:00:52.842444Z",
     "iopub.status.idle": "2023-04-20T14:00:52.862536Z",
     "shell.execute_reply": "2023-04-20T14:00:52.861381Z"
    },
    "papermill": {
     "duration": 0.043817,
     "end_time": "2023-04-20T14:00:52.864955",
     "exception": false,
     "start_time": "2023-04-20T14:00:52.821138",
     "status": "completed"
    },
    "tags": []
   },
   "outputs": [
    {
     "data": {
      "text/html": [
       "<div>\n",
       "<style scoped>\n",
       "    .dataframe tbody tr th:only-of-type {\n",
       "        vertical-align: middle;\n",
       "    }\n",
       "\n",
       "    .dataframe tbody tr th {\n",
       "        vertical-align: top;\n",
       "    }\n",
       "\n",
       "    .dataframe thead th {\n",
       "        text-align: right;\n",
       "    }\n",
       "</style>\n",
       "<table border=\"1\" class=\"dataframe\">\n",
       "  <thead>\n",
       "    <tr style=\"text-align: right;\">\n",
       "      <th></th>\n",
       "      <th>id</th>\n",
       "      <th>age</th>\n",
       "      <th>hypertension</th>\n",
       "      <th>heart_disease</th>\n",
       "      <th>avg_glucose_level</th>\n",
       "      <th>bmi</th>\n",
       "      <th>stroke</th>\n",
       "    </tr>\n",
       "  </thead>\n",
       "  <tbody>\n",
       "    <tr>\n",
       "      <th>id</th>\n",
       "      <td>1.000000</td>\n",
       "      <td>0.003677</td>\n",
       "      <td>0.003610</td>\n",
       "      <td>-0.001253</td>\n",
       "      <td>0.000943</td>\n",
       "      <td>0.003238</td>\n",
       "      <td>0.006430</td>\n",
       "    </tr>\n",
       "    <tr>\n",
       "      <th>age</th>\n",
       "      <td>0.003677</td>\n",
       "      <td>1.000000</td>\n",
       "      <td>0.276367</td>\n",
       "      <td>0.263777</td>\n",
       "      <td>0.238323</td>\n",
       "      <td>0.333314</td>\n",
       "      <td>0.245239</td>\n",
       "    </tr>\n",
       "    <tr>\n",
       "      <th>hypertension</th>\n",
       "      <td>0.003610</td>\n",
       "      <td>0.276367</td>\n",
       "      <td>1.000000</td>\n",
       "      <td>0.108292</td>\n",
       "      <td>0.174540</td>\n",
       "      <td>0.167770</td>\n",
       "      <td>0.127891</td>\n",
       "    </tr>\n",
       "    <tr>\n",
       "      <th>heart_disease</th>\n",
       "      <td>-0.001253</td>\n",
       "      <td>0.263777</td>\n",
       "      <td>0.108292</td>\n",
       "      <td>1.000000</td>\n",
       "      <td>0.161907</td>\n",
       "      <td>0.041322</td>\n",
       "      <td>0.134905</td>\n",
       "    </tr>\n",
       "    <tr>\n",
       "      <th>avg_glucose_level</th>\n",
       "      <td>0.000943</td>\n",
       "      <td>0.238323</td>\n",
       "      <td>0.174540</td>\n",
       "      <td>0.161907</td>\n",
       "      <td>1.000000</td>\n",
       "      <td>0.175672</td>\n",
       "      <td>0.131991</td>\n",
       "    </tr>\n",
       "    <tr>\n",
       "      <th>bmi</th>\n",
       "      <td>0.003238</td>\n",
       "      <td>0.333314</td>\n",
       "      <td>0.167770</td>\n",
       "      <td>0.041322</td>\n",
       "      <td>0.175672</td>\n",
       "      <td>1.000000</td>\n",
       "      <td>0.042341</td>\n",
       "    </tr>\n",
       "    <tr>\n",
       "      <th>stroke</th>\n",
       "      <td>0.006430</td>\n",
       "      <td>0.245239</td>\n",
       "      <td>0.127891</td>\n",
       "      <td>0.134905</td>\n",
       "      <td>0.131991</td>\n",
       "      <td>0.042341</td>\n",
       "      <td>1.000000</td>\n",
       "    </tr>\n",
       "  </tbody>\n",
       "</table>\n",
       "</div>"
      ],
      "text/plain": [
       "                         id       age  hypertension  heart_disease  \\\n",
       "id                 1.000000  0.003677      0.003610      -0.001253   \n",
       "age                0.003677  1.000000      0.276367       0.263777   \n",
       "hypertension       0.003610  0.276367      1.000000       0.108292   \n",
       "heart_disease     -0.001253  0.263777      0.108292       1.000000   \n",
       "avg_glucose_level  0.000943  0.238323      0.174540       0.161907   \n",
       "bmi                0.003238  0.333314      0.167770       0.041322   \n",
       "stroke             0.006430  0.245239      0.127891       0.134905   \n",
       "\n",
       "                   avg_glucose_level       bmi    stroke  \n",
       "id                          0.000943  0.003238  0.006430  \n",
       "age                         0.238323  0.333314  0.245239  \n",
       "hypertension                0.174540  0.167770  0.127891  \n",
       "heart_disease               0.161907  0.041322  0.134905  \n",
       "avg_glucose_level           1.000000  0.175672  0.131991  \n",
       "bmi                         0.175672  1.000000  0.042341  \n",
       "stroke                      0.131991  0.042341  1.000000  "
      ]
     },
     "execution_count": 16,
     "metadata": {},
     "output_type": "execute_result"
    }
   ],
   "source": [
    "# Making our correlation matrix\n",
    "df.corr()"
   ]
  },
  {
   "cell_type": "code",
   "execution_count": 17,
   "id": "b2f118d7",
   "metadata": {
    "execution": {
     "iopub.execute_input": "2023-04-20T14:00:52.907466Z",
     "iopub.status.busy": "2023-04-20T14:00:52.906560Z",
     "iopub.status.idle": "2023-04-20T14:00:53.750123Z",
     "shell.execute_reply": "2023-04-20T14:00:53.749121Z"
    },
    "papermill": {
     "duration": 0.86851,
     "end_time": "2023-04-20T14:00:53.753298",
     "exception": false,
     "start_time": "2023-04-20T14:00:52.884788",
     "status": "completed"
    },
    "tags": []
   },
   "outputs": [
    {
     "data": {
      "image/png": "[encoded data removed]",
      "text/plain": [
       "<Figure size 1000x500 with 2 Axes>"
      ]
     },
     "metadata": {},
     "output_type": "display_data"
    }
   ],
   "source": [
    "# Let's make the correlation matrix into a heatmap\n",
    "corr_matrix = df.corr() \n",
    "fig, ax = plt.subplots(figsize=(10,5))\n",
    "ax = sns.heatmap(corr_matrix,\n",
    "                 annot=True, \n",
    "                 linewidths=0.5,\n",
    "                 fmt=\".2f\", \n",
    "                 cmap=\"YlGnBu\" \n",
    "                );"
   ]
  },
  {
   "cell_type": "markdown",
   "id": "98f16baf",
   "metadata": {
    "papermill": {
     "duration": 0.024634,
     "end_time": "2023-04-20T14:00:53.799817",
     "exception": false,
     "start_time": "2023-04-20T14:00:53.775183",
     "status": "completed"
    },
    "tags": []
   },
   "source": [
    "The only correlation I can really see here is with age and likelihood of having a stroke. While it's not a very strong correlation, age does seem to be a better indicator of having a stroke than any of the other variables. \n",
    "\n",
    "I think this is a good place to end our EDA for this notebook. Let's continue on with modeling!"
   ]
  },
  {
   "cell_type": "markdown",
   "id": "4e08ba54",
   "metadata": {
    "papermill": {
     "duration": 0.019973,
     "end_time": "2023-04-20T14:00:53.841697",
     "exception": false,
     "start_time": "2023-04-20T14:00:53.821724",
     "status": "completed"
    },
    "tags": []
   },
   "source": [
    "# Data Modeling \n",
    "\n",
    "So now that we've done some EDA and gotten to know our data a little better, let's model the data. Before we fill in the missing values and convert the non-numerical columns found in our EDA, I need to prepare the data so there won't be any bias in the machine's evaluation. I'm going to first create X(features) and y(target) values, and then split them into training, validation, and test sets."
   ]
  },
  {
   "cell_type": "code",
   "execution_count": 18,
   "id": "33d2bee2",
   "metadata": {
    "execution": {
     "iopub.execute_input": "2023-04-20T14:00:53.886791Z",
     "iopub.status.busy": "2023-04-20T14:00:53.885938Z",
     "iopub.status.idle": "2023-04-20T14:00:53.906319Z",
     "shell.execute_reply": "2023-04-20T14:00:53.905228Z"
    },
    "papermill": {
     "duration": 0.046747,
     "end_time": "2023-04-20T14:00:53.909385",
     "exception": false,
     "start_time": "2023-04-20T14:00:53.862638",
     "status": "completed"
    },
    "tags": []
   },
   "outputs": [
    {
     "data": {
      "text/html": [
       "<div>\n",
       "<style scoped>\n",
       "    .dataframe tbody tr th:only-of-type {\n",
       "        vertical-align: middle;\n",
       "    }\n",
       "\n",
       "    .dataframe tbody tr th {\n",
       "        vertical-align: top;\n",
       "    }\n",
       "\n",
       "    .dataframe thead th {\n",
       "        text-align: right;\n",
       "    }\n",
       "</style>\n",
       "<table border=\"1\" class=\"dataframe\">\n",
       "  <thead>\n",
       "    <tr style=\"text-align: right;\">\n",
       "      <th></th>\n",
       "      <th>id</th>\n",
       "      <th>gender</th>\n",
       "      <th>age</th>\n",
       "      <th>hypertension</th>\n",
       "      <th>heart_disease</th>\n",
       "      <th>ever_married</th>\n",
       "      <th>work_type</th>\n",
       "      <th>Residence_type</th>\n",
       "      <th>avg_glucose_level</th>\n",
       "      <th>bmi</th>\n",
       "      <th>smoking_status</th>\n",
       "      <th>stroke</th>\n",
       "    </tr>\n",
       "  </thead>\n",
       "  <tbody>\n",
       "    <tr>\n",
       "      <th>0</th>\n",
       "      <td>9046</td>\n",
       "      <td>Male</td>\n",
       "      <td>67.0</td>\n",
       "      <td>0</td>\n",
       "      <td>1</td>\n",
       "      <td>Yes</td>\n",
       "      <td>Private</td>\n",
       "      <td>Urban</td>\n",
       "      <td>228.69</td>\n",
       "      <td>36.6</td>\n",
       "      <td>formerly smoked</td>\n",
       "      <td>1</td>\n",
       "    </tr>\n",
       "    <tr>\n",
       "      <th>1</th>\n",
       "      <td>51676</td>\n",
       "      <td>Female</td>\n",
       "      <td>61.0</td>\n",
       "      <td>0</td>\n",
       "      <td>0</td>\n",
       "      <td>Yes</td>\n",
       "      <td>Self-employed</td>\n",
       "      <td>Rural</td>\n",
       "      <td>202.21</td>\n",
       "      <td>NaN</td>\n",
       "      <td>never smoked</td>\n",
       "      <td>1</td>\n",
       "    </tr>\n",
       "    <tr>\n",
       "      <th>2</th>\n",
       "      <td>31112</td>\n",
       "      <td>Male</td>\n",
       "      <td>80.0</td>\n",
       "      <td>0</td>\n",
       "      <td>1</td>\n",
       "      <td>Yes</td>\n",
       "      <td>Private</td>\n",
       "      <td>Rural</td>\n",
       "      <td>105.92</td>\n",
       "      <td>32.5</td>\n",
       "      <td>never smoked</td>\n",
       "      <td>1</td>\n",
       "    </tr>\n",
       "    <tr>\n",
       "      <th>3</th>\n",
       "      <td>60182</td>\n",
       "      <td>Female</td>\n",
       "      <td>49.0</td>\n",
       "      <td>0</td>\n",
       "      <td>0</td>\n",
       "      <td>Yes</td>\n",
       "      <td>Private</td>\n",
       "      <td>Urban</td>\n",
       "      <td>171.23</td>\n",
       "      <td>34.4</td>\n",
       "      <td>smokes</td>\n",
       "      <td>1</td>\n",
       "    </tr>\n",
       "    <tr>\n",
       "      <th>4</th>\n",
       "      <td>1665</td>\n",
       "      <td>Female</td>\n",
       "      <td>79.0</td>\n",
       "      <td>1</td>\n",
       "      <td>0</td>\n",
       "      <td>Yes</td>\n",
       "      <td>Self-employed</td>\n",
       "      <td>Rural</td>\n",
       "      <td>174.12</td>\n",
       "      <td>24.0</td>\n",
       "      <td>never smoked</td>\n",
       "      <td>1</td>\n",
       "    </tr>\n",
       "  </tbody>\n",
       "</table>\n",
       "</div>"
      ],
      "text/plain": [
       "      id  gender   age  hypertension  heart_disease ever_married  \\\n",
       "0   9046    Male  67.0             0              1          Yes   \n",
       "1  51676  Female  61.0             0              0          Yes   \n",
       "2  31112    Male  80.0             0              1          Yes   \n",
       "3  60182  Female  49.0             0              0          Yes   \n",
       "4   1665  Female  79.0             1              0          Yes   \n",
       "\n",
       "       work_type Residence_type  avg_glucose_level   bmi   smoking_status  \\\n",
       "0        Private          Urban             228.69  36.6  formerly smoked   \n",
       "1  Self-employed          Rural             202.21   NaN     never smoked   \n",
       "2        Private          Rural             105.92  32.5     never smoked   \n",
       "3        Private          Urban             171.23  34.4           smokes   \n",
       "4  Self-employed          Rural             174.12  24.0     never smoked   \n",
       "\n",
       "   stroke  \n",
       "0       1  \n",
       "1       1  \n",
       "2       1  \n",
       "3       1  \n",
       "4       1  "
      ]
     },
     "execution_count": 18,
     "metadata": {},
     "output_type": "execute_result"
    }
   ],
   "source": [
    "# Checking out the df before I split it\n",
    "df.head()"
   ]
  },
  {
   "cell_type": "code",
   "execution_count": 19,
   "id": "53739a40",
   "metadata": {
    "execution": {
     "iopub.execute_input": "2023-04-20T14:00:53.956920Z",
     "iopub.status.busy": "2023-04-20T14:00:53.955758Z",
     "iopub.status.idle": "2023-04-20T14:00:53.963294Z",
     "shell.execute_reply": "2023-04-20T14:00:53.961883Z"
    },
    "papermill": {
     "duration": 0.034311,
     "end_time": "2023-04-20T14:00:53.966101",
     "exception": false,
     "start_time": "2023-04-20T14:00:53.931790",
     "status": "completed"
    },
    "tags": []
   },
   "outputs": [],
   "source": [
    "# Noticing that I don't need the id column, so I will drop it\n",
    "df.drop(\"id\",axis=1, inplace=True)"
   ]
  },
  {
   "cell_type": "code",
   "execution_count": 20,
   "id": "6adf7b1f",
   "metadata": {
    "execution": {
     "iopub.execute_input": "2023-04-20T14:00:54.012589Z",
     "iopub.status.busy": "2023-04-20T14:00:54.011690Z",
     "iopub.status.idle": "2023-04-20T14:00:54.039264Z",
     "shell.execute_reply": "2023-04-20T14:00:54.037699Z"
    },
    "papermill": {
     "duration": 0.054255,
     "end_time": "2023-04-20T14:00:54.042250",
     "exception": false,
     "start_time": "2023-04-20T14:00:53.987995",
     "status": "completed"
    },
    "tags": []
   },
   "outputs": [
    {
     "data": {
      "text/html": [
       "<div>\n",
       "<style scoped>\n",
       "    .dataframe tbody tr th:only-of-type {\n",
       "        vertical-align: middle;\n",
       "    }\n",
       "\n",
       "    .dataframe tbody tr th {\n",
       "        vertical-align: top;\n",
       "    }\n",
       "\n",
       "    .dataframe thead th {\n",
       "        text-align: right;\n",
       "    }\n",
       "</style>\n",
       "<table border=\"1\" class=\"dataframe\">\n",
       "  <thead>\n",
       "    <tr style=\"text-align: right;\">\n",
       "      <th></th>\n",
       "      <th>gender</th>\n",
       "      <th>age</th>\n",
       "      <th>hypertension</th>\n",
       "      <th>heart_disease</th>\n",
       "      <th>ever_married</th>\n",
       "      <th>work_type</th>\n",
       "      <th>Residence_type</th>\n",
       "      <th>avg_glucose_level</th>\n",
       "      <th>bmi</th>\n",
       "      <th>smoking_status</th>\n",
       "      <th>stroke</th>\n",
       "    </tr>\n",
       "  </thead>\n",
       "  <tbody>\n",
       "    <tr>\n",
       "      <th>0</th>\n",
       "      <td>Male</td>\n",
       "      <td>67.0</td>\n",
       "      <td>0</td>\n",
       "      <td>1</td>\n",
       "      <td>Yes</td>\n",
       "      <td>Private</td>\n",
       "      <td>Urban</td>\n",
       "      <td>228.69</td>\n",
       "      <td>36.6</td>\n",
       "      <td>formerly smoked</td>\n",
       "      <td>1</td>\n",
       "    </tr>\n",
       "    <tr>\n",
       "      <th>1</th>\n",
       "      <td>Female</td>\n",
       "      <td>61.0</td>\n",
       "      <td>0</td>\n",
       "      <td>0</td>\n",
       "      <td>Yes</td>\n",
       "      <td>Self-employed</td>\n",
       "      <td>Rural</td>\n",
       "      <td>202.21</td>\n",
       "      <td>NaN</td>\n",
       "      <td>never smoked</td>\n",
       "      <td>1</td>\n",
       "    </tr>\n",
       "    <tr>\n",
       "      <th>2</th>\n",
       "      <td>Male</td>\n",
       "      <td>80.0</td>\n",
       "      <td>0</td>\n",
       "      <td>1</td>\n",
       "      <td>Yes</td>\n",
       "      <td>Private</td>\n",
       "      <td>Rural</td>\n",
       "      <td>105.92</td>\n",
       "      <td>32.5</td>\n",
       "      <td>never smoked</td>\n",
       "      <td>1</td>\n",
       "    </tr>\n",
       "    <tr>\n",
       "      <th>3</th>\n",
       "      <td>Female</td>\n",
       "      <td>49.0</td>\n",
       "      <td>0</td>\n",
       "      <td>0</td>\n",
       "      <td>Yes</td>\n",
       "      <td>Private</td>\n",
       "      <td>Urban</td>\n",
       "      <td>171.23</td>\n",
       "      <td>34.4</td>\n",
       "      <td>smokes</td>\n",
       "      <td>1</td>\n",
       "    </tr>\n",
       "    <tr>\n",
       "      <th>4</th>\n",
       "      <td>Female</td>\n",
       "      <td>79.0</td>\n",
       "      <td>1</td>\n",
       "      <td>0</td>\n",
       "      <td>Yes</td>\n",
       "      <td>Self-employed</td>\n",
       "      <td>Rural</td>\n",
       "      <td>174.12</td>\n",
       "      <td>24.0</td>\n",
       "      <td>never smoked</td>\n",
       "      <td>1</td>\n",
       "    </tr>\n",
       "    <tr>\n",
       "      <th>...</th>\n",
       "      <td>...</td>\n",
       "      <td>...</td>\n",
       "      <td>...</td>\n",
       "      <td>...</td>\n",
       "      <td>...</td>\n",
       "      <td>...</td>\n",
       "      <td>...</td>\n",
       "      <td>...</td>\n",
       "      <td>...</td>\n",
       "      <td>...</td>\n",
       "      <td>...</td>\n",
       "    </tr>\n",
       "    <tr>\n",
       "      <th>5105</th>\n",
       "      <td>Female</td>\n",
       "      <td>80.0</td>\n",
       "      <td>1</td>\n",
       "      <td>0</td>\n",
       "      <td>Yes</td>\n",
       "      <td>Private</td>\n",
       "      <td>Urban</td>\n",
       "      <td>83.75</td>\n",
       "      <td>NaN</td>\n",
       "      <td>never smoked</td>\n",
       "      <td>0</td>\n",
       "    </tr>\n",
       "    <tr>\n",
       "      <th>5106</th>\n",
       "      <td>Female</td>\n",
       "      <td>81.0</td>\n",
       "      <td>0</td>\n",
       "      <td>0</td>\n",
       "      <td>Yes</td>\n",
       "      <td>Self-employed</td>\n",
       "      <td>Urban</td>\n",
       "      <td>125.20</td>\n",
       "      <td>40.0</td>\n",
       "      <td>never smoked</td>\n",
       "      <td>0</td>\n",
       "    </tr>\n",
       "    <tr>\n",
       "      <th>5107</th>\n",
       "      <td>Female</td>\n",
       "      <td>35.0</td>\n",
       "      <td>0</td>\n",
       "      <td>0</td>\n",
       "      <td>Yes</td>\n",
       "      <td>Self-employed</td>\n",
       "      <td>Rural</td>\n",
       "      <td>82.99</td>\n",
       "      <td>30.6</td>\n",
       "      <td>never smoked</td>\n",
       "      <td>0</td>\n",
       "    </tr>\n",
       "    <tr>\n",
       "      <th>5108</th>\n",
       "      <td>Male</td>\n",
       "      <td>51.0</td>\n",
       "      <td>0</td>\n",
       "      <td>0</td>\n",
       "      <td>Yes</td>\n",
       "      <td>Private</td>\n",
       "      <td>Rural</td>\n",
       "      <td>166.29</td>\n",
       "      <td>25.6</td>\n",
       "      <td>formerly smoked</td>\n",
       "      <td>0</td>\n",
       "    </tr>\n",
       "    <tr>\n",
       "      <th>5109</th>\n",
       "      <td>Female</td>\n",
       "      <td>44.0</td>\n",
       "      <td>0</td>\n",
       "      <td>0</td>\n",
       "      <td>Yes</td>\n",
       "      <td>Govt_job</td>\n",
       "      <td>Urban</td>\n",
       "      <td>85.28</td>\n",
       "      <td>26.2</td>\n",
       "      <td>Unknown</td>\n",
       "      <td>0</td>\n",
       "    </tr>\n",
       "  </tbody>\n",
       "</table>\n",
       "<p>5109 rows × 11 columns</p>\n",
       "</div>"
      ],
      "text/plain": [
       "      gender   age  hypertension  heart_disease ever_married      work_type  \\\n",
       "0       Male  67.0             0              1          Yes        Private   \n",
       "1     Female  61.0             0              0          Yes  Self-employed   \n",
       "2       Male  80.0             0              1          Yes        Private   \n",
       "3     Female  49.0             0              0          Yes        Private   \n",
       "4     Female  79.0             1              0          Yes  Self-employed   \n",
       "...      ...   ...           ...            ...          ...            ...   \n",
       "5105  Female  80.0             1              0          Yes        Private   \n",
       "5106  Female  81.0             0              0          Yes  Self-employed   \n",
       "5107  Female  35.0             0              0          Yes  Self-employed   \n",
       "5108    Male  51.0             0              0          Yes        Private   \n",
       "5109  Female  44.0             0              0          Yes       Govt_job   \n",
       "\n",
       "     Residence_type  avg_glucose_level   bmi   smoking_status  stroke  \n",
       "0             Urban             228.69  36.6  formerly smoked       1  \n",
       "1             Rural             202.21   NaN     never smoked       1  \n",
       "2             Rural             105.92  32.5     never smoked       1  \n",
       "3             Urban             171.23  34.4           smokes       1  \n",
       "4             Rural             174.12  24.0     never smoked       1  \n",
       "...             ...                ...   ...              ...     ...  \n",
       "5105          Urban              83.75   NaN     never smoked       0  \n",
       "5106          Urban             125.20  40.0     never smoked       0  \n",
       "5107          Rural              82.99  30.6     never smoked       0  \n",
       "5108          Rural             166.29  25.6  formerly smoked       0  \n",
       "5109          Urban              85.28  26.2          Unknown       0  \n",
       "\n",
       "[5109 rows x 11 columns]"
      ]
     },
     "execution_count": 20,
     "metadata": {},
     "output_type": "execute_result"
    }
   ],
   "source": [
    "df"
   ]
  },
  {
   "cell_type": "code",
   "execution_count": 21,
   "id": "d38f0f55",
   "metadata": {
    "execution": {
     "iopub.execute_input": "2023-04-20T14:00:54.087776Z",
     "iopub.status.busy": "2023-04-20T14:00:54.087352Z",
     "iopub.status.idle": "2023-04-20T14:00:54.097525Z",
     "shell.execute_reply": "2023-04-20T14:00:54.096599Z"
    },
    "papermill": {
     "duration": 0.036892,
     "end_time": "2023-04-20T14:00:54.100675",
     "exception": false,
     "start_time": "2023-04-20T14:00:54.063783",
     "status": "completed"
    },
    "tags": []
   },
   "outputs": [
    {
     "data": {
      "text/plain": [
       "((5109, 10), (5109,))"
      ]
     },
     "execution_count": 21,
     "metadata": {},
     "output_type": "execute_result"
    }
   ],
   "source": [
    "# Now let's break up our data into X and y values\n",
    "X = df.drop(\"stroke\", axis=1)\n",
    "y = df[\"stroke\"]\n",
    "\n",
    "# Checking the shapes\n",
    "X.shape, y.shape"
   ]
  },
  {
   "cell_type": "code",
   "execution_count": 22,
   "id": "8c13fce5",
   "metadata": {
    "execution": {
     "iopub.execute_input": "2023-04-20T14:00:54.148034Z",
     "iopub.status.busy": "2023-04-20T14:00:54.146359Z",
     "iopub.status.idle": "2023-04-20T14:00:54.164756Z",
     "shell.execute_reply": "2023-04-20T14:00:54.162906Z"
    },
    "papermill": {
     "duration": 0.045249,
     "end_time": "2023-04-20T14:00:54.167495",
     "exception": false,
     "start_time": "2023-04-20T14:00:54.122246",
     "status": "completed"
    },
    "tags": []
   },
   "outputs": [
    {
     "data": {
      "text/plain": [
       "(5109, 3065, 1022, 1022)"
      ]
     },
     "execution_count": 22,
     "metadata": {},
     "output_type": "execute_result"
    }
   ],
   "source": [
    "# Creating a random seed to mix the data \n",
    "np.random.seed(88)\n",
    "\n",
    "# Splitting the data into training and testing sets\n",
    "X_train, X_test, y_train, y_test = train_test_split(X, y, test_size=0.2) \n",
    "\n",
    "# Splitting the training data into training and validation sets\n",
    "X_train, X_valid, y_train, y_valid = train_test_split(X_train, y_train, test_size=0.25) \n",
    "\n",
    "# Making sure our data was split correctly \n",
    "len(df), len(X_train), len(X_valid), len(X_test)"
   ]
  },
  {
   "cell_type": "markdown",
   "id": "d7fb0166",
   "metadata": {
    "papermill": {
     "duration": 0.021465,
     "end_time": "2023-04-20T14:00:54.210757",
     "exception": false,
     "start_time": "2023-04-20T14:00:54.189292",
     "status": "completed"
    },
    "tags": []
   },
   "source": [
    "So in the above cell, we first split our entire data set into 80% for training and 20% for testing. We then split that 80% for training into 75% for training and 25% for validation. So finally we should have 60% for training, 20% for validation, and 20% for testing. So:\n",
    "\n",
    "3065/5109 = 59.99% Training \n",
    "\n",
    "1022/5109 = 20.00% Validation \n",
    "\n",
    "1022/5109 = 20.00% Test \n",
    "\n",
    "Perfect!!\n",
    "\n",
    "\n",
    "Now that the data is split up, let's fill in the missing values and convert all the non-numeric values to numeric ones. "
   ]
  },
  {
   "cell_type": "code",
   "execution_count": 23,
   "id": "06aab787",
   "metadata": {
    "execution": {
     "iopub.execute_input": "2023-04-20T14:00:54.259248Z",
     "iopub.status.busy": "2023-04-20T14:00:54.257595Z",
     "iopub.status.idle": "2023-04-20T14:00:54.272093Z",
     "shell.execute_reply": "2023-04-20T14:00:54.270327Z"
    },
    "papermill": {
     "duration": 0.041753,
     "end_time": "2023-04-20T14:00:54.274841",
     "exception": false,
     "start_time": "2023-04-20T14:00:54.233088",
     "status": "completed"
    },
    "tags": []
   },
   "outputs": [
    {
     "data": {
      "text/plain": [
       "(418, 10.3, 97.6)"
      ]
     },
     "execution_count": 23,
     "metadata": {},
     "output_type": "execute_result"
    }
   ],
   "source": [
    "# Looking at the number of unique, max, and min values for BMI\n",
    "len(df[\"bmi\"].value_counts()), min(df[\"bmi\"]), max(df[\"bmi\"])"
   ]
  },
  {
   "cell_type": "code",
   "execution_count": 24,
   "id": "c889ee4d",
   "metadata": {
    "execution": {
     "iopub.execute_input": "2023-04-20T14:00:54.324284Z",
     "iopub.status.busy": "2023-04-20T14:00:54.322941Z",
     "iopub.status.idle": "2023-04-20T14:00:54.333129Z",
     "shell.execute_reply": "2023-04-20T14:00:54.331289Z"
    },
    "papermill": {
     "duration": 0.037113,
     "end_time": "2023-04-20T14:00:54.336045",
     "exception": false,
     "start_time": "2023-04-20T14:00:54.298932",
     "status": "completed"
    },
    "tags": []
   },
   "outputs": [
    {
     "data": {
      "text/plain": [
       "(28.894559902200488, 28.1)"
      ]
     },
     "execution_count": 24,
     "metadata": {},
     "output_type": "execute_result"
    }
   ],
   "source": [
    "# Checking on the mean and median values\n",
    "df[\"bmi\"].mean(), df[\"bmi\"].median()"
   ]
  },
  {
   "cell_type": "markdown",
   "id": "08bda3e4",
   "metadata": {
    "papermill": {
     "duration": 0.022872,
     "end_time": "2023-04-20T14:00:54.384262",
     "exception": false,
     "start_time": "2023-04-20T14:00:54.361390",
     "status": "completed"
    },
    "tags": []
   },
   "source": [
    "Since the mean and median are pretty close, I don't think it matters too much which one I choose to fill in the missing values. There doesn't appear to be any outliers skewing the data in one particular direction or another. "
   ]
  },
  {
   "cell_type": "code",
   "execution_count": 25,
   "id": "dcfd7bbe",
   "metadata": {
    "execution": {
     "iopub.execute_input": "2023-04-20T14:00:54.436478Z",
     "iopub.status.busy": "2023-04-20T14:00:54.434936Z",
     "iopub.status.idle": "2023-04-20T14:00:54.484932Z",
     "shell.execute_reply": "2023-04-20T14:00:54.483258Z"
    },
    "papermill": {
     "duration": 0.080029,
     "end_time": "2023-04-20T14:00:54.488286",
     "exception": false,
     "start_time": "2023-04-20T14:00:54.408257",
     "status": "completed"
    },
    "tags": []
   },
   "outputs": [
    {
     "name": "stdout",
     "output_type": "stream",
     "text": [
      "Number of nulls: 0\n",
      "Datatypes:\n",
      "gender                  int8\n",
      "age                  float64\n",
      "hypertension           int64\n",
      "heart_disease          int64\n",
      "ever_married            int8\n",
      "work_type               int8\n",
      "Residence_type          int8\n",
      "avg_glucose_level    float64\n",
      "bmi                  float64\n",
      "smoking_status          int8\n",
      "dtype: object\n",
      "__________________________________\n",
      "Number of nulls: 0\n",
      "Datatypes:\n",
      "gender                  int8\n",
      "age                  float64\n",
      "hypertension           int64\n",
      "heart_disease          int64\n",
      "ever_married            int8\n",
      "work_type               int8\n",
      "Residence_type          int8\n",
      "avg_glucose_level    float64\n",
      "bmi                  float64\n",
      "smoking_status          int8\n",
      "dtype: object\n",
      "__________________________________\n",
      "Number of nulls: 0\n",
      "Datatypes:\n",
      "gender                  int8\n",
      "age                  float64\n",
      "hypertension           int64\n",
      "heart_disease          int64\n",
      "ever_married            int8\n",
      "work_type               int8\n",
      "Residence_type          int8\n",
      "avg_glucose_level    float64\n",
      "bmi                  float64\n",
      "smoking_status          int8\n",
      "dtype: object\n",
      "__________________________________\n"
     ]
    }
   ],
   "source": [
    "# Creating a list of our split X values\n",
    "data_splits = [X_train,X_valid,X_test]\n",
    "\n",
    "# Function to fill in null values with the median of BMI data\n",
    "def median_filler(split): \n",
    "    \"\"\"\n",
    "    Fills in any missing bmi values with the median from the set.\n",
    "    \"\"\"\n",
    "    split[\"bmi\"].fillna(split[\"bmi\"].median(),inplace=True)\n",
    "    \n",
    "# Function to convert non-numeric values into numeric ones\n",
    "def convert_category(split):\n",
    "    \"\"\"\n",
    "    Converts non-numeric values into categories. \n",
    "    The categories are then converted to integers via the category code.\n",
    "    \"\"\"\n",
    "    for label, content in split.items():\n",
    "        if pd.api.types.is_object_dtype(content):\n",
    "            # First creating categories\n",
    "            split[label] = content.astype(\"category\").cat.as_ordered()\n",
    "            \n",
    "            # Next accessing the corresponding codes for each category\n",
    "            split[label] = pd.Categorical(content).codes\n",
    "    \n",
    "# Looping each X split in our list through the two functions\n",
    "for split in data_splits:\n",
    "    median_filler(split)\n",
    "    convert_category(split)\n",
    "    \n",
    "    # Checking null values \n",
    "    print(f\"Number of nulls: {split['bmi'].isnull().sum()}\")\n",
    "\n",
    "    # Checking datatypes\n",
    "    print(f\"Datatypes:\\n{split.dtypes}\")\n",
    "    print(\"__________________________________\")\n"
   ]
  },
  {
   "cell_type": "markdown",
   "id": "9426d3ce",
   "metadata": {
    "papermill": {
     "duration": 0.022281,
     "end_time": "2023-04-20T14:00:54.533898",
     "exception": false,
     "start_time": "2023-04-20T14:00:54.511617",
     "status": "completed"
    },
    "tags": []
   },
   "source": [
    "Great! I'm glad we were able to fill all of the missing values and convert the non-numeric ones to numeric. I am a little concerned about the mapping though. We've converted all of the objects to categories and then accessed the codes from those categories to make them numeric, but how do I know that across all of the data splits the categories are assigned the same value? I'm fairly new to ML, so I want to double check myself to make sure. After much head scratching, I thought of getting the original df value counts for objects and then comparing that number to the combination of all the X splits value_counts for the corresponding column name. (Hope that makes sense). I've written the code below: "
   ]
  },
  {
   "cell_type": "code",
   "execution_count": 26,
   "id": "09300fac",
   "metadata": {
    "execution": {
     "iopub.execute_input": "2023-04-20T14:00:54.581767Z",
     "iopub.status.busy": "2023-04-20T14:00:54.581316Z",
     "iopub.status.idle": "2023-04-20T14:00:54.612308Z",
     "shell.execute_reply": "2023-04-20T14:00:54.610277Z"
    },
    "papermill": {
     "duration": 0.058413,
     "end_time": "2023-04-20T14:00:54.615103",
     "exception": false,
     "start_time": "2023-04-20T14:00:54.556690",
     "status": "completed"
    },
    "tags": []
   },
   "outputs": [
    {
     "name": "stdout",
     "output_type": "stream",
     "text": [
      "All gender values were mapped correctly!\n",
      "All ever_married values were mapped correctly!\n",
      "All work_type values were mapped correctly!\n",
      "All Residence_type values were mapped correctly!\n",
      "All smoking_status values were mapped correctly!\n"
     ]
    }
   ],
   "source": [
    "# Generating a list of the original non-numeric objects \n",
    "objects = [\"gender\", \"ever_married\", \"work_type\", \"Residence_type\", \"smoking_status\"]\n",
    "\n",
    "# Empty lists for counted values \n",
    "original_count = []\n",
    "split_count =[]\n",
    "\n",
    "# Counting the original objects, and the combined split object's values\n",
    "for object in objects:\n",
    "    original_count.append(df[object].value_counts())\n",
    "    \n",
    "    # Add each split value together\n",
    "    split_add = 0\n",
    "    \n",
    "    for split in data_splits: \n",
    "        split_add += split[object].value_counts()\n",
    "    split_count.append(split_add)\n",
    "\n",
    "# Checking to make sure that they are equal to each other\n",
    "for i, obj in enumerate(objects):\n",
    "    if original_count[i].values.tolist() == split_count[i].values.tolist():\n",
    "        print(f\"All {obj} values were mapped correctly!\")\n",
    "    else:\n",
    "        print(f\"There was a problem with {obj}.\")"
   ]
  },
  {
   "cell_type": "markdown",
   "id": "ec56c9af",
   "metadata": {
    "papermill": {
     "duration": 0.023066,
     "end_time": "2023-04-20T14:00:54.661204",
     "exception": false,
     "start_time": "2023-04-20T14:00:54.638138",
     "status": "completed"
    },
    "tags": []
   },
   "source": [
    "Okay, we're in good shape now! \n",
    "\n",
    "Now that are data is all split up and we've taken care of missing and non-numeric values, let's build some machine learning models. There's a handy flowchart produced by Scikit-learn that can help decide which estimator to choose: \n",
    "\n",
    "[![ML-Map.png](https://i.postimg.cc/pT9kXWd2/ML-Map.png)](https://postimg.cc/XGb9s0Fh)\n",
    "\n",
    "I'm going to try 4 different estimators to model the data. Following the above flowchart:\n",
    "\n",
    "1. I have more than 50 samples\n",
    "\n",
    "2. I'm predicting a category (stroke or no stroke) \n",
    "\n",
    "3. I have labeled data\n",
    "\n",
    "4. I have less than 100K samples \n",
    "\n",
    "    * `Linear SVC` will go on our list. \n",
    "    \n",
    "\n",
    "5. I don't have text data \n",
    "\n",
    "    * `KNeighbors Classifier` will go on our list. \n",
    "\n",
    "    * `Ensemble Classifier` will go on our list (Random Forest) \n",
    "\n",
    "The last one is `Logistic Regression` which, despite it's name, is a linear model for classification. I found this one through searching for \"best machine learning models for classification problems\" online.\n",
    "\n",
    "Now that we've figured out which estimators we are going to use, let's fit them and create some models. "
   ]
  },
  {
   "cell_type": "code",
   "execution_count": 27,
   "id": "c532079a",
   "metadata": {
    "execution": {
     "iopub.execute_input": "2023-04-20T14:00:54.710810Z",
     "iopub.status.busy": "2023-04-20T14:00:54.709958Z",
     "iopub.status.idle": "2023-04-20T14:00:54.718646Z",
     "shell.execute_reply": "2023-04-20T14:00:54.717239Z"
    },
    "papermill": {
     "duration": 0.037607,
     "end_time": "2023-04-20T14:00:54.721655",
     "exception": false,
     "start_time": "2023-04-20T14:00:54.684048",
     "status": "completed"
    },
    "tags": []
   },
   "outputs": [],
   "source": [
    "# Put our models in a dictionary \n",
    "models = {\"Linear SVC\": LinearSVC(),\n",
    "          \"KNeighbors\": KNeighborsClassifier(),\n",
    "          \"Random Forest\": RandomForestClassifier(),\n",
    "          \"Logistic Regression\": LogisticRegression()}\n",
    "\n",
    "# Create a funciton that will fit and score the models (based on training and validation sets)\n",
    "def fit_and_score(models, X_train, X_test, y_train, y_test):\n",
    "    \"\"\"\n",
    "    Fits and evaluates given machine learning models. \n",
    "    models: a dictionary of different Scikit-Learn machine learning models \n",
    "    X_train: training features\n",
    "    X_valid: validation/test features\n",
    "    y_train: training labels\n",
    "    y_valid: validation/test labels\n",
    "    \"\"\"\n",
    "    # Setting a random seed \n",
    "    np.random.seed(88)\n",
    "    \n",
    "    # Empty dictionary to store model scores\n",
    "    model_scores = {} \n",
    "    \n",
    "    # Looping through each model\n",
    "    for name, model in models.items():\n",
    "        \n",
    "        # Fit the model \n",
    "        model.fit(X_train, y_train)\n",
    "        \n",
    "        # Evaluate the model and append it's accuracy score to model_scores\n",
    "        model_scores[name] = model.score(X_test, y_test)\n",
    "    \n",
    "    # Return the model_scores dictionary \n",
    "    return model_scores"
   ]
  },
  {
   "cell_type": "code",
   "execution_count": 28,
   "id": "680b2f9f",
   "metadata": {
    "execution": {
     "iopub.execute_input": "2023-04-20T14:00:54.768934Z",
     "iopub.status.busy": "2023-04-20T14:00:54.768444Z",
     "iopub.status.idle": "2023-04-20T14:00:55.627607Z",
     "shell.execute_reply": "2023-04-20T14:00:55.625789Z"
    },
    "papermill": {
     "duration": 0.888623,
     "end_time": "2023-04-20T14:00:55.632568",
     "exception": false,
     "start_time": "2023-04-20T14:00:54.743945",
     "status": "completed"
    },
    "tags": []
   },
   "outputs": [
    {
     "data": {
      "text/plain": [
       "{'Linear SVC': 0.9305283757338552,\n",
       " 'KNeighbors': 0.9246575342465754,\n",
       " 'Random Forest': 0.9315068493150684,\n",
       " 'Logistic Regression': 0.9315068493150684}"
      ]
     },
     "execution_count": 28,
     "metadata": {},
     "output_type": "execute_result"
    }
   ],
   "source": [
    "# Blocking warnings\n",
    "warnings.filterwarnings(\"ignore\")\n",
    "\n",
    "# Running the above function and returning our score dictionary \n",
    "model_scores = fit_and_score(models,X_train,X_valid,y_train,y_valid)\n",
    "\n",
    "model_scores"
   ]
  },
  {
   "cell_type": "markdown",
   "id": "06e8346c",
   "metadata": {
    "papermill": {
     "duration": 0.051058,
     "end_time": "2023-04-20T14:00:55.742409",
     "exception": false,
     "start_time": "2023-04-20T14:00:55.691351",
     "status": "completed"
    },
    "tags": []
   },
   "source": [
    "All of our models scored quite high on the first run through. I have a sneaking suspicious that this is due to the imbalanced number of target values that we discussed earlier. As a quick reminder, if the machine guessed \"No Stroke\" for every value, it would achieve 95% accuracy. This goes back to our needing more data with patients who have had a stroke."
   ]
  },
  {
   "cell_type": "markdown",
   "id": "d8dfabb9",
   "metadata": {
    "papermill": {
     "duration": 0.023338,
     "end_time": "2023-04-20T14:00:55.788352",
     "exception": false,
     "start_time": "2023-04-20T14:00:55.765014",
     "status": "completed"
    },
    "tags": []
   },
   "source": [
    "# Hyperparameter Tuning\n",
    "\n",
    "Even though our baseline models have quite high scores, we are still going to try and achieve the 95% accuracy stated in our Evaluation Criteria at the top. To do this, the next step will be tuning hyperparameters. I'll tune the hyperparameters on the `Linear SVC`, `Random Forest`, and `Logistic Regression` models; leaving out `KNeighbors` since it scored lower than the others. I'm going to start by running hyperparameters through a Randomized Search and then we will move our top performing model to a Grid Search to check against all combinations of hyperparameters. First we need to create grids of hyperparameters for each of our models. \n",
    "\n",
    "**Note**: I found all of these hyperparameters by searching online for the best tuning hyperparameters for each different estimator. I've made random guesses based on others' recommendations online."
   ]
  },
  {
   "cell_type": "code",
   "execution_count": 29,
   "id": "b818b348",
   "metadata": {
    "execution": {
     "iopub.execute_input": "2023-04-20T14:00:55.836016Z",
     "iopub.status.busy": "2023-04-20T14:00:55.835291Z",
     "iopub.status.idle": "2023-04-20T14:00:55.845326Z",
     "shell.execute_reply": "2023-04-20T14:00:55.843950Z"
    },
    "papermill": {
     "duration": 0.03686,
     "end_time": "2023-04-20T14:00:55.848171",
     "exception": false,
     "start_time": "2023-04-20T14:00:55.811311",
     "status": "completed"
    },
    "tags": []
   },
   "outputs": [],
   "source": [
    "# Creating hyperparameter grids \n",
    "\n",
    "# Linear SVC grid\n",
    "lin_svc_grid = {\"C\": np.logspace(-3, 3, 7),\n",
    "                   \"penalty\": [\"l1\",\"l2\"],\n",
    "                   \"loss\": [\"hinge\",\"squared_hinge\",\"modified_huber\"]}\n",
    "\n",
    "# Random Forest grid \n",
    "rand_for_grid = {\"n_estimators\": np.arange(10,1000,50),\n",
    "                \"max_depth\": [None, 3, 5, 10],\n",
    "                \"min_samples_split\": np.arange(2,20,2)}\n",
    "\n",
    "# Logictic Regression grid\n",
    "log_reg_grid = {\"C\": np.logspace(-4,4,20),\n",
    "                \"penalty\": [\"l1\",\"l2\"],\n",
    "                \"solver\": [\"liblinear\",\"lbfgs\"]}\n",
    "\n",
    "# List of grids\n",
    "all_grids = [lin_svc_grid, rand_for_grid, log_reg_grid]\n",
    "\n",
    "# Recreating our dictionary to only include models we want to use and adding grids for the models \n",
    "models = {\"Linear SVC\": [LinearSVC(),lin_svc_grid],\n",
    "          \"Random Forest\": [RandomForestClassifier(),rand_for_grid],\n",
    "          \"Logistic Regression\": [LogisticRegression(),log_reg_grid]\n",
    "                                  }"
   ]
  },
  {
   "cell_type": "code",
   "execution_count": 30,
   "id": "e4e4d894",
   "metadata": {
    "execution": {
     "iopub.execute_input": "2023-04-20T14:00:55.895329Z",
     "iopub.status.busy": "2023-04-20T14:00:55.894894Z",
     "iopub.status.idle": "2023-04-20T14:03:19.260045Z",
     "shell.execute_reply": "2023-04-20T14:03:19.257321Z"
    },
    "papermill": {
     "duration": 143.39649,
     "end_time": "2023-04-20T14:03:19.266783",
     "exception": false,
     "start_time": "2023-04-20T14:00:55.870293",
     "status": "completed"
    },
    "tags": []
   },
   "outputs": [
    {
     "name": "stdout",
     "output_type": "stream",
     "text": [
      "These are the best parameters found for Linear SVC:\n",
      "{'penalty': 'l2', 'loss': 'squared_hinge', 'C': 1000.0}\n",
      "Score after using best hyperparameters:\n",
      "Linear SVC:0.9305283757338552\n",
      "---------------------\n",
      "These are the best parameters found for Random Forest:\n",
      "{'n_estimators': 860, 'min_samples_split': 18, 'max_depth': 3}\n",
      "Score after using best hyperparameters:\n",
      "Random Forest:0.9305283757338552\n",
      "---------------------\n",
      "These are the best parameters found for Logistic Regression:\n",
      "{'solver': 'lbfgs', 'penalty': 'l2', 'C': 0.23357214690901212}\n",
      "Score after using best hyperparameters:\n",
      "Logistic Regression:0.9295499021526419\n",
      "---------------------\n"
     ]
    }
   ],
   "source": [
    "# Tuning our models \n",
    "\n",
    "# Blocking all of the numerous warnings\n",
    "warnings.filterwarnings(\"ignore\")\n",
    "\n",
    "# Creating a random seed\n",
    "np.random.seed(88)\n",
    "\n",
    "# Creating a function to run the randomizedgrid\n",
    "def randomized_tune(models,X_train,y_train): \n",
    "    \"\"\"\n",
    "    Randomly chooses hyperparameters from the grid and fits them to a model.\n",
    "    Returns the best hyperparameters.\n",
    "    \"\"\" \n",
    "    # Empty dictionary for trained(fit) models \n",
    "    rs_models ={}\n",
    "    \n",
    "    for name, model in models.items(): \n",
    "        \n",
    "        # Running RandomizedSearch Cross Validation on each model using a random subsect of given hyperparameters \n",
    "        rs_model = RandomizedSearchCV(model[0],\n",
    "                                      param_distributions=model[1],\n",
    "                                      cv=5, \n",
    "                                      n_iter=20,\n",
    "                                      verbose=0)\n",
    "        rs_model.fit(X_train,y_train)\n",
    "        rs_models[name]=rs_model\n",
    "    \n",
    "    return rs_models\n",
    "\n",
    "# Running our models through the Randomized tuning\n",
    "rs_models = randomized_tune(models,X_train,y_train)\n",
    "\n",
    "# Returning the new scores \n",
    "for name, model in rs_models.items():\n",
    "    print(f\"These are the best parameters found for {name}:\\n{model.best_params_}\")\n",
    "    print(f\"Score after using best hyperparameters:\\n{name}:{model.score(X_valid,y_valid)}\")\n",
    "    print(\"---------------------\")"
   ]
  },
  {
   "cell_type": "code",
   "execution_count": 31,
   "id": "7408e4b8",
   "metadata": {
    "execution": {
     "iopub.execute_input": "2023-04-20T14:03:19.381691Z",
     "iopub.status.busy": "2023-04-20T14:03:19.381202Z",
     "iopub.status.idle": "2023-04-20T14:03:19.391092Z",
     "shell.execute_reply": "2023-04-20T14:03:19.389133Z"
    },
    "papermill": {
     "duration": 0.067482,
     "end_time": "2023-04-20T14:03:19.394527",
     "exception": false,
     "start_time": "2023-04-20T14:03:19.327045",
     "status": "completed"
    },
    "tags": []
   },
   "outputs": [
    {
     "name": "stdout",
     "output_type": "stream",
     "text": [
      "Baseline Scores:\n"
     ]
    },
    {
     "data": {
      "text/plain": [
       "{'Linear SVC': 0.9305283757338552,\n",
       " 'KNeighbors': 0.9246575342465754,\n",
       " 'Random Forest': 0.9315068493150684,\n",
       " 'Logistic Regression': 0.9315068493150684}"
      ]
     },
     "execution_count": 31,
     "metadata": {},
     "output_type": "execute_result"
    }
   ],
   "source": [
    "# Baseline model scores\n",
    "print(\"Baseline Scores:\")\n",
    "model_scores"
   ]
  },
  {
   "cell_type": "markdown",
   "id": "5fa37a11",
   "metadata": {
    "papermill": {
     "duration": 0.023044,
     "end_time": "2023-04-20T14:03:19.441131",
     "exception": false,
     "start_time": "2023-04-20T14:03:19.418087",
     "status": "completed"
    },
    "tags": []
   },
   "source": [
    "Well after running through the RandomGridCV, we can conclude:\n",
    "\n",
    "* `Linear SVC` hasn't changed it's score\n",
    "\n",
    "* `Random Forest` has decreased it's score \n",
    "\n",
    "* `Logistic Regression` has decreased it's score the most\n",
    "\n",
    "Hmm...this randomized search didn't prove to very fruitful. Perhaps we should choose our top performing models and run them through a full grid search. Normally I would pick our top performing model to run a Grid Search on but in this case `Random Forest` and `Logistic Regression` are pretty neck and neck. For the sake of time, I'm just going to choose one model to run through the full GridSearchCV. Let's try running `Logistic Regression` through GridSearchCV. "
   ]
  },
  {
   "cell_type": "code",
   "execution_count": 32,
   "id": "d7456bfd",
   "metadata": {
    "execution": {
     "iopub.execute_input": "2023-04-20T14:03:19.492636Z",
     "iopub.status.busy": "2023-04-20T14:03:19.492160Z",
     "iopub.status.idle": "2023-04-20T14:03:54.220957Z",
     "shell.execute_reply": "2023-04-20T14:03:54.219138Z"
    },
    "papermill": {
     "duration": 34.822164,
     "end_time": "2023-04-20T14:03:54.287919",
     "exception": false,
     "start_time": "2023-04-20T14:03:19.465755",
     "status": "completed"
    },
    "tags": []
   },
   "outputs": [
    {
     "name": "stdout",
     "output_type": "stream",
     "text": [
      "Best Parameters for Log Reg:\n",
      "{'C': 0.20433597178569418, 'penalty': 'l2', 'solver': 'lbfgs'}\n",
      "Grid Search score Log Reg:\n",
      "0.9305283757338552\n",
      "Baseline score for Log Reg:\n",
      "0.9315068493150684\n"
     ]
    }
   ],
   "source": [
    "# Updating our log_reg_grid for a more exhaustive search \n",
    "log_reg_grid = {\"C\": np.logspace(-4,4,30),\n",
    "                \"penalty\": [\"l1\",\"l2\"],\n",
    "                \"solver\": [\"liblinear\",\"lbfgs\",\"sag\"]}\n",
    "\n",
    "# Using GridSearch\n",
    "gs_log_reg = GridSearchCV(LogisticRegression(),\n",
    "                          param_grid=log_reg_grid,\n",
    "                          cv=5)\n",
    "\n",
    "# Fitting our model\n",
    "gs_log_reg.fit(X_train, y_train)\n",
    "\n",
    "# Results\n",
    "print(f\"Best Parameters for Log Reg:\\n{gs_log_reg.best_params_}\")\n",
    "print(f\"Grid Search score Log Reg:\\n{gs_log_reg.score(X_valid,y_valid)}\")\n",
    "print(f\"Baseline score for Log Reg:\\n{model_scores['Logistic Regression']}\")"
   ]
  },
  {
   "cell_type": "markdown",
   "id": "af6a9e90",
   "metadata": {
    "execution": {
     "iopub.execute_input": "2023-04-12T17:09:51.654017Z",
     "iopub.status.busy": "2023-04-12T17:09:51.653577Z",
     "iopub.status.idle": "2023-04-12T17:09:51.662915Z",
     "shell.execute_reply": "2023-04-12T17:09:51.661484Z",
     "shell.execute_reply.started": "2023-04-12T17:09:51.653979Z"
    },
    "papermill": {
     "duration": 0.021975,
     "end_time": "2023-04-20T14:03:54.363734",
     "exception": false,
     "start_time": "2023-04-20T14:03:54.341759",
     "status": "completed"
    },
    "tags": []
   },
   "source": [
    "Even after our exhaustive grid search, we still couldn't beat the baseline score value for Logistic Regression. I think 93.15% is about as high as we are going to be able to get with the validation data. In real life I would tinker with this more and try different models and hyperparameters to try and get my score up to our Evaluation goal of 95%. For the sake of this notebook, we're going to keep moving on. Hopefully the test data will perform better.\n",
    "\n",
    "Now that we've tuned hyperparameters and determined our best models, it's time to run our test data through the model to see what kind of score we can get. Since tuning hyperparameters actually seemed to make our scores worse, I'm just going to use the original baseline models.\n",
    "\n",
    "Let's run the test data through all of the original models.\n"
   ]
  },
  {
   "cell_type": "code",
   "execution_count": 33,
   "id": "fe349165",
   "metadata": {
    "execution": {
     "iopub.execute_input": "2023-04-20T14:03:54.412822Z",
     "iopub.status.busy": "2023-04-20T14:03:54.412282Z",
     "iopub.status.idle": "2023-04-20T14:03:55.277042Z",
     "shell.execute_reply": "2023-04-20T14:03:55.275105Z"
    },
    "papermill": {
     "duration": 0.894334,
     "end_time": "2023-04-20T14:03:55.282119",
     "exception": false,
     "start_time": "2023-04-20T14:03:54.387785",
     "status": "completed"
    },
    "tags": []
   },
   "outputs": [
    {
     "data": {
      "text/plain": [
       "{'Linear SVC': 0.9657534246575342,\n",
       " 'KNeighbors': 0.961839530332681,\n",
       " 'Random Forest': 0.9628180039138943,\n",
       " 'Logistic Regression': 0.9637964774951077}"
      ]
     },
     "execution_count": 33,
     "metadata": {},
     "output_type": "execute_result"
    }
   ],
   "source": [
    "# Revisiting our dictionary\n",
    "models = {\"Linear SVC\": LinearSVC(),\n",
    "          \"KNeighbors\": KNeighborsClassifier(),\n",
    "          \"Random Forest\": RandomForestClassifier(),\n",
    "          \"Logistic Regression\": LogisticRegression()}\n",
    "\n",
    "# Calling our function we made to test the data earlier\n",
    "test_scores = fit_and_score(models, X_train, X_test, y_train, y_test)\n",
    "\n",
    "test_scores"
   ]
  },
  {
   "cell_type": "markdown",
   "id": "adbf97b9",
   "metadata": {
    "papermill": {
     "duration": 0.05043,
     "end_time": "2023-04-20T14:03:55.393428",
     "exception": false,
     "start_time": "2023-04-20T14:03:55.342998",
     "status": "completed"
    },
    "tags": []
   },
   "source": [
    "# Evaluation\n",
    "\n",
    "Well would you look at that! We reached our threshold of 95% on all of the models! However, it does seem a little suspicious that all of the models raised their accuracy by 3% on the test data.\n",
    "\n",
    "Let's look at some evaluation metrics on the data. Since Linear SVC actually ended up being the highest scorer, I'm going to make predictions on that model. "
   ]
  },
  {
   "cell_type": "code",
   "execution_count": 34,
   "id": "a67ef694",
   "metadata": {
    "execution": {
     "iopub.execute_input": "2023-04-20T14:03:55.444785Z",
     "iopub.status.busy": "2023-04-20T14:03:55.444291Z",
     "iopub.status.idle": "2023-04-20T14:03:55.652764Z",
     "shell.execute_reply": "2023-04-20T14:03:55.651107Z"
    },
    "papermill": {
     "duration": 0.240134,
     "end_time": "2023-04-20T14:03:55.657451",
     "exception": false,
     "start_time": "2023-04-20T14:03:55.417317",
     "status": "completed"
    },
    "tags": []
   },
   "outputs": [
    {
     "data": {
      "text/plain": [
       "0.9657534246575342"
      ]
     },
     "execution_count": 34,
     "metadata": {},
     "output_type": "execute_result"
    }
   ],
   "source": [
    "# Instantiating a separate Linear SVC class\n",
    "clf = LinearSVC()\n",
    "\n",
    "# Fitting the model\n",
    "clf.fit(X_train,y_train)\n",
    "\n",
    "# Scoring it to make sure it matches above\n",
    "clf.score(X_test,y_test)"
   ]
  },
  {
   "cell_type": "code",
   "execution_count": 35,
   "id": "c19aee0b",
   "metadata": {
    "execution": {
     "iopub.execute_input": "2023-04-20T14:03:55.772475Z",
     "iopub.status.busy": "2023-04-20T14:03:55.771131Z",
     "iopub.status.idle": "2023-04-20T14:03:55.791661Z",
     "shell.execute_reply": "2023-04-20T14:03:55.789753Z"
    },
    "papermill": {
     "duration": 0.080486,
     "end_time": "2023-04-20T14:03:55.800356",
     "exception": false,
     "start_time": "2023-04-20T14:03:55.719870",
     "status": "completed"
    },
    "tags": []
   },
   "outputs": [
    {
     "data": {
      "text/plain": [
       "array([0, 0, 0, ..., 0, 0, 0])"
      ]
     },
     "execution_count": 35,
     "metadata": {},
     "output_type": "execute_result"
    }
   ],
   "source": [
    "# Making predictions with our top model \n",
    "y_preds = clf.predict(X_test)\n",
    "\n",
    "# What the machine predicted for the target values\n",
    "y_preds"
   ]
  },
  {
   "cell_type": "code",
   "execution_count": 36,
   "id": "467a022b",
   "metadata": {
    "execution": {
     "iopub.execute_input": "2023-04-20T14:03:55.909915Z",
     "iopub.status.busy": "2023-04-20T14:03:55.909499Z",
     "iopub.status.idle": "2023-04-20T14:03:56.180442Z",
     "shell.execute_reply": "2023-04-20T14:03:56.179031Z"
    },
    "papermill": {
     "duration": 0.323008,
     "end_time": "2023-04-20T14:03:56.183294",
     "exception": false,
     "start_time": "2023-04-20T14:03:55.860286",
     "status": "completed"
    },
    "tags": []
   },
   "outputs": [
    {
     "data": {
      "image/png": "[encoded data removed]",
      "text/plain": [
       "<Figure size 640x480 with 1 Axes>"
      ]
     },
     "metadata": {},
     "output_type": "display_data"
    }
   ],
   "source": [
    "# ROC curve and AUC \n",
    "plot_roc_curve(clf,X_test,y_test);"
   ]
  },
  {
   "cell_type": "code",
   "execution_count": 37,
   "id": "8e374901",
   "metadata": {
    "execution": {
     "iopub.execute_input": "2023-04-20T14:03:56.233789Z",
     "iopub.status.busy": "2023-04-20T14:03:56.233385Z",
     "iopub.status.idle": "2023-04-20T14:03:56.526997Z",
     "shell.execute_reply": "2023-04-20T14:03:56.525245Z"
    },
    "papermill": {
     "duration": 0.322959,
     "end_time": "2023-04-20T14:03:56.530044",
     "exception": false,
     "start_time": "2023-04-20T14:03:56.207085",
     "status": "completed"
    },
    "tags": []
   },
   "outputs": [
    {
     "data": {
      "text/plain": [
       "<sklearn.metrics._plot.confusion_matrix.ConfusionMatrixDisplay at 0x749f17408e50>"
      ]
     },
     "execution_count": 37,
     "metadata": {},
     "output_type": "execute_result"
    },
    {
     "data": {
      "image/png": "[encoded data removed]",
      "text/plain": [
       "<Figure size 640x480 with 2 Axes>"
      ]
     },
     "metadata": {},
     "output_type": "display_data"
    }
   ],
   "source": [
    "# Let's check out the confusion matrix \n",
    "plot_confusion_matrix(clf,X_test,y_test)"
   ]
  },
  {
   "cell_type": "markdown",
   "id": "001fddad",
   "metadata": {
    "papermill": {
     "duration": 0.023809,
     "end_time": "2023-04-20T14:03:56.577952",
     "exception": false,
     "start_time": "2023-04-20T14:03:56.554143",
     "status": "completed"
    },
    "tags": []
   },
   "source": [
    "Ouch...this confusion matrix is showing that our model isn't performing wonderfully. The ROC curve doesn't look too great either; I would prefer it a little closer to the top left corner there. From our confusion matrix, it looks like our model just predicted \"No Stroke\" for every single test value.  I suspect this all goes back to our imbalanced number of target variables. With our current data, we really can't get an accurate prediction. We need to gather more data that has instances of patients having a Stroke to make some better insights here. "
   ]
  },
  {
   "cell_type": "code",
   "execution_count": 38,
   "id": "f9f828d9",
   "metadata": {
    "execution": {
     "iopub.execute_input": "2023-04-20T14:03:56.633964Z",
     "iopub.status.busy": "2023-04-20T14:03:56.632529Z",
     "iopub.status.idle": "2023-04-20T14:03:56.651264Z",
     "shell.execute_reply": "2023-04-20T14:03:56.650152Z"
    },
    "papermill": {
     "duration": 0.052668,
     "end_time": "2023-04-20T14:03:56.654940",
     "exception": false,
     "start_time": "2023-04-20T14:03:56.602272",
     "status": "completed"
    },
    "tags": []
   },
   "outputs": [
    {
     "name": "stdout",
     "output_type": "stream",
     "text": [
      "              precision    recall  f1-score   support\n",
      "\n",
      "           0       0.97      1.00      0.98       987\n",
      "           1       0.00      0.00      0.00        35\n",
      "\n",
      "    accuracy                           0.97      1022\n",
      "   macro avg       0.48      0.50      0.49      1022\n",
      "weighted avg       0.93      0.97      0.95      1022\n",
      "\n"
     ]
    }
   ],
   "source": [
    "# Classification Report \n",
    "print(classification_report(y_test,y_preds))"
   ]
  },
  {
   "cell_type": "code",
   "execution_count": 39,
   "id": "f65328c4",
   "metadata": {
    "execution": {
     "iopub.execute_input": "2023-04-20T14:03:56.715090Z",
     "iopub.status.busy": "2023-04-20T14:03:56.713411Z",
     "iopub.status.idle": "2023-04-20T14:03:56.821498Z",
     "shell.execute_reply": "2023-04-20T14:03:56.819927Z"
    },
    "papermill": {
     "duration": 0.138764,
     "end_time": "2023-04-20T14:03:56.825384",
     "exception": false,
     "start_time": "2023-04-20T14:03:56.686620",
     "status": "completed"
    },
    "tags": []
   },
   "outputs": [
    {
     "name": "stdout",
     "output_type": "stream",
     "text": [
      "precision: nan\n",
      "recall: nan\n",
      "f1: nan\n"
     ]
    }
   ],
   "source": [
    "# Creating a function to score precision, recall, and f1 scores with cross validation \n",
    "metrics = [\"precision\",\"recall\",\"f1\"]\n",
    "\n",
    "def cv_scores(metrics): \n",
    "    \"\"\"\n",
    "    Performs cross validation on the data and returns the mean score.\n",
    "    \"\"\"\n",
    "    for metric in metrics:\n",
    "        scores = cross_val_score(clf, X, y, cv=5, scoring=metric)\n",
    "        print(f\"{metric}: {scores.mean():.3f}\")\n",
    "        \n",
    "        \n",
    "cv_scores(metrics)"
   ]
  },
  {
   "cell_type": "markdown",
   "id": "54d22c20",
   "metadata": {
    "papermill": {
     "duration": 0.025278,
     "end_time": "2023-04-20T14:03:56.880198",
     "exception": false,
     "start_time": "2023-04-20T14:03:56.854920",
     "status": "completed"
    },
    "tags": []
   },
   "source": [
    "Since we have zero true positives, we aren't able to predict the metrics for precision, recall, and f1. A division by zero won't yield any results. This goes back to our model just predicting \"No Stroke\" for every item in the test set. \n",
    "\n",
    "Finally, let's look at the coefficient and feature importances."
   ]
  },
  {
   "cell_type": "code",
   "execution_count": 40,
   "id": "9569a6ce",
   "metadata": {
    "execution": {
     "iopub.execute_input": "2023-04-20T14:03:56.939782Z",
     "iopub.status.busy": "2023-04-20T14:03:56.938653Z",
     "iopub.status.idle": "2023-04-20T14:03:56.947409Z",
     "shell.execute_reply": "2023-04-20T14:03:56.945769Z"
    },
    "papermill": {
     "duration": 0.038714,
     "end_time": "2023-04-20T14:03:56.950225",
     "exception": false,
     "start_time": "2023-04-20T14:03:56.911511",
     "status": "completed"
    },
    "tags": []
   },
   "outputs": [
    {
     "data": {
      "text/plain": [
       "array([[-0.02674639,  0.00589658,  0.10781624,  0.05872669, -0.09386635,\n",
       "         0.01985006, -0.00661702, -0.00106318, -0.00206701, -0.00781206]])"
      ]
     },
     "execution_count": 40,
     "metadata": {},
     "output_type": "execute_result"
    }
   ],
   "source": [
    "# Check coefficient\n",
    "clf.coef_"
   ]
  },
  {
   "cell_type": "code",
   "execution_count": 41,
   "id": "ed56db7b",
   "metadata": {
    "execution": {
     "iopub.execute_input": "2023-04-20T14:03:57.000179Z",
     "iopub.status.busy": "2023-04-20T14:03:56.999716Z",
     "iopub.status.idle": "2023-04-20T14:03:57.009996Z",
     "shell.execute_reply": "2023-04-20T14:03:57.008560Z"
    },
    "papermill": {
     "duration": 0.039392,
     "end_time": "2023-04-20T14:03:57.013523",
     "exception": false,
     "start_time": "2023-04-20T14:03:56.974131",
     "status": "completed"
    },
    "tags": []
   },
   "outputs": [
    {
     "data": {
      "text/plain": [
       "{'gender': -0.026746392173944384,\n",
       " 'age': 0.005896578006243852,\n",
       " 'hypertension': 0.10781623599036627,\n",
       " 'heart_disease': 0.05872668926242799,\n",
       " 'ever_married': -0.09386634715025659,\n",
       " 'work_type': 0.019850063741275095,\n",
       " 'Residence_type': -0.006617020066506198,\n",
       " 'avg_glucose_level': -0.0010631773769097814,\n",
       " 'bmi': -0.0020670090942745607,\n",
       " 'smoking_status': -0.007812056021623362}"
      ]
     },
     "execution_count": 41,
     "metadata": {},
     "output_type": "execute_result"
    }
   ],
   "source": [
    "# Mapping coefficients to columns\n",
    "feature_dict = dict(zip(df.columns, list(clf.coef_[0])))\n",
    "\n",
    "feature_dict"
   ]
  },
  {
   "cell_type": "code",
   "execution_count": 42,
   "id": "d236214d",
   "metadata": {
    "execution": {
     "iopub.execute_input": "2023-04-20T14:03:57.070477Z",
     "iopub.status.busy": "2023-04-20T14:03:57.070060Z",
     "iopub.status.idle": "2023-04-20T14:03:57.418261Z",
     "shell.execute_reply": "2023-04-20T14:03:57.416385Z"
    },
    "papermill": {
     "duration": 0.37985,
     "end_time": "2023-04-20T14:03:57.421566",
     "exception": false,
     "start_time": "2023-04-20T14:03:57.041716",
     "status": "completed"
    },
    "tags": []
   },
   "outputs": [
    {
     "data": {
      "image/png": "[encoded data removed]",
      "text/plain": [
       "<Figure size 1000x500 with 1 Axes>"
      ]
     },
     "metadata": {},
     "output_type": "display_data"
    }
   ],
   "source": [
    "# Visualizing Feature Importance \n",
    "feature_df = pd.DataFrame(feature_dict,index=[0])\n",
    "\n",
    "feature_df.plot.bar(title=\"Feature Importance\",figsize=(10,5));"
   ]
  },
  {
   "cell_type": "code",
   "execution_count": 43,
   "id": "2a06304f",
   "metadata": {
    "execution": {
     "iopub.execute_input": "2023-04-20T14:03:57.477244Z",
     "iopub.status.busy": "2023-04-20T14:03:57.475974Z",
     "iopub.status.idle": "2023-04-20T14:03:57.796494Z",
     "shell.execute_reply": "2023-04-20T14:03:57.795361Z"
    },
    "papermill": {
     "duration": 0.351777,
     "end_time": "2023-04-20T14:03:57.799177",
     "exception": false,
     "start_time": "2023-04-20T14:03:57.447400",
     "status": "completed"
    },
    "tags": []
   },
   "outputs": [
    {
     "data": {
      "image/png": "[encoded data removed]",
      "text/plain": [
       "<Figure size 1000x500 with 1 Axes>"
      ]
     },
     "metadata": {},
     "output_type": "display_data"
    }
   ],
   "source": [
    "# Let's try transposing it \n",
    "feature_df.T.plot.bar(title=\"Feature Importance\", figsize=(10,5), color=\"Steelblue\");"
   ]
  },
  {
   "cell_type": "markdown",
   "id": "e9cf00d6",
   "metadata": {
    "papermill": {
     "duration": 0.025967,
     "end_time": "2023-04-20T14:03:57.851320",
     "exception": false,
     "start_time": "2023-04-20T14:03:57.825353",
     "status": "completed"
    },
    "tags": []
   },
   "source": [
    "So it looks like hypertension, heart_disease, and ever_married (interesting) had the biggest impact on our model's predictions. "
   ]
  },
  {
   "cell_type": "markdown",
   "id": "fd32fa8c",
   "metadata": {
    "papermill": {
     "duration": 0.024657,
     "end_time": "2023-04-20T14:03:57.902741",
     "exception": false,
     "start_time": "2023-04-20T14:03:57.878084",
     "status": "completed"
    },
    "tags": []
   },
   "source": [
    "# Conclusion\n",
    "\n",
    "Well I know this might seem anticlimactic, but my conclusion is that I need more data. Specifically, more data with instances of patients who **have had** a Stroke. I think all of the No Stroke data biased my machine learning model. Since 95% of the target values had a value of \"No Stroke\" the model(s) couldn't properly make predictions.\n",
    "\n",
    "I've really enjoyed this machine learning project. Please let me know if you have any suggestions in the comments below about ideas to improve my models. Thanks!"
   ]
  },
  {
   "cell_type": "code",
   "execution_count": null,
   "id": "f19c169c",
   "metadata": {
    "papermill": {
     "duration": 0.024649,
     "end_time": "2023-04-20T14:03:57.952723",
     "exception": false,
     "start_time": "2023-04-20T14:03:57.928074",
     "status": "completed"
    },
    "tags": []
   },
   "outputs": [],
   "source": []
  }
 ],
 "metadata": {
  "kernelspec": {
   "display_name": "Python 3",
   "language": "python",
   "name": "python3"
  },
  "language_info": {
   "codemirror_mode": {
    "name": "ipython",
    "version": 3
   },
   "file_extension": ".py",
   "mimetype": "text/x-python",
   "name": "python",
   "nbconvert_exporter": "python",
   "pygments_lexer": "ipython3",
   "version": "3.7.12"
  },
  "papermill": {
   "default_parameters": {},
   "duration": 203.910154,
   "end_time": "2023-04-20T14:03:59.204555",
   "environment_variables": {},
   "exception": null,
   "input_path": "__notebook__.ipynb",
   "output_path": "__notebook__.ipynb",
   "parameters": {},
   "start_time": "2023-04-20T14:00:35.294401",
   "version": "2.4.0"
  }
 },
 "nbformat": 4,
 "nbformat_minor": 5
}
